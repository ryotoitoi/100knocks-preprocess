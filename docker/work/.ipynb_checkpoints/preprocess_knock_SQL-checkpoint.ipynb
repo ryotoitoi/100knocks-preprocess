{
 "cells": [
  {
   "cell_type": "markdown",
   "metadata": {},
   "source": [
    "# データサイエンス100本ノック（構造化データ加工編） - SQL"
   ]
  },
  {
   "cell_type": "markdown",
   "metadata": {},
   "source": [
    "## はじめに\n",
    "- データベースはPostgreSQL12です\n",
    "- 初めに以下のセルを実行してください\n",
    "- セルに %%sql と記載することでSQLを発行することができます\n",
    "- jupyterからはdescribeコマンドによるテーブル構造の確認ができないため、テーブル構造を確認する場合はlimitを指定したSELECTなどで代用してください\n",
    "- 使い慣れたSQLクライアントを使っても問題ありません（接続情報は以下の通り）\n",
    "  - IPアドレス：Docker Desktopの場合はlocalhost、Docker toolboxの場合は192.168.99.100\n",
    "  - Port:5432\n",
    "  - database名: dsdojo_db\n",
    "  - ユーザ名：padawan\n",
    "  - パスワード:padawan12345\n",
    "- 大量出力を行うとJupyterが固まることがあるため、出力件数は制限することを推奨します（設問にも出力件数を記載）\n",
    "    - 結果確認のために表示させる量を適切にコントロールし、作業を軽快にすすめる技術もデータ加工には求められます\n",
    "- 大量結果が出力された場合は、ファイルが重くなり以降開けなくなることもあります\n",
    "    - その場合、作業結果は消えますがファイルをGitHubから取り直してください\n",
    "    - vimエディタなどで大量出力範囲を削除することもできます\n",
    "- 名前、住所等はダミーデータであり、実在するものではありません"
   ]
  },
  {
   "cell_type": "code",
   "execution_count": 2,
   "metadata": {},
   "outputs": [
    {
     "data": {
      "text/plain": [
       "'Connected: padawan@dsdojo_db'"
      ]
     },
     "execution_count": 2,
     "metadata": {},
     "output_type": "execute_result"
    }
   ],
   "source": [
    "%load_ext sql\n",
    "import os\n",
    "import pandas as pd\n",
    "import psycopg2\n",
    "from sqlalchemy import create_engine\n",
    "\n",
    "pgconfig = {\n",
    "    'host': 'db',\n",
    "    'port': os.environ['PG_PORT'],\n",
    "    'database': os.environ['PG_DATABASE'],\n",
    "    'user': os.environ['PG_USER'],\n",
    "    'password': os.environ['PG_PASSWORD'],\n",
    "}\n",
    "dsl = 'postgresql://{user}:{password}@{host}:{port}/{database}'.format(**pgconfig)\n",
    "\n",
    "# pd.read_sql用のコネクタ\n",
    "conn = psycopg2.connect(**pgconfig)\n",
    "# pd.to_sql用のcreate engine\n",
    "engine = create_engine(dsl)\n",
    "# MagicコマンドでSQLを書くための設定\n",
    "%sql $dsl"
   ]
  },
  {
   "cell_type": "markdown",
   "metadata": {},
   "source": [
    "# 使い方\n",
    "- セルの先頭に%%sqlと記載し、２行目以降にSQLを記述することでJupyterからPostgreSQLに対しSQLを実行できます。"
   ]
  },
  {
   "cell_type": "code",
   "execution_count": 3,
   "metadata": {},
   "outputs": [
    {
     "name": "stdout",
     "output_type": "stream",
     "text": [
      " * postgresql://padawan:***@db:5432/dsdojo_db\n",
      "1 rows affected.\n"
     ]
    },
    {
     "data": {
      "text/html": [
       "<table>\n",
       "    <thead>\n",
       "        <tr>\n",
       "            <th>sample</th>\n",
       "        </tr>\n",
       "    </thead>\n",
       "    <tbody>\n",
       "        <tr>\n",
       "            <td>このように実行できます</td>\n",
       "        </tr>\n",
       "    </tbody>\n",
       "</table>"
      ],
      "text/plain": [
       "[('このように実行できます',)]"
      ]
     },
     "execution_count": 3,
     "metadata": {},
     "output_type": "execute_result"
    }
   ],
   "source": [
    "%%sql\n",
    "select 'このように実行できます' as sample"
   ]
  },
  {
   "cell_type": "markdown",
   "metadata": {},
   "source": [
    "# データ加工100本ノック"
   ]
  },
  {
   "cell_type": "markdown",
   "metadata": {},
   "source": [
    "---\n",
    "> S-001: レシート明細テーブル（receipt）から全項目を10件抽出し、どのようなデータを保有しているか目視で確認せよ。\n"
   ]
  },
  {
   "cell_type": "code",
   "execution_count": 4,
   "metadata": {},
   "outputs": [
    {
     "name": "stdout",
     "output_type": "stream",
     "text": [
      " * postgresql://padawan:***@db:5432/dsdojo_db\n",
      "10 rows affected.\n"
     ]
    },
    {
     "data": {
      "text/html": [
       "<table>\n",
       "    <thead>\n",
       "        <tr>\n",
       "            <th>sales_ymd</th>\n",
       "            <th>sales_epoch</th>\n",
       "            <th>store_cd</th>\n",
       "            <th>receipt_no</th>\n",
       "            <th>receipt_sub_no</th>\n",
       "            <th>customer_id</th>\n",
       "            <th>product_cd</th>\n",
       "            <th>quantity</th>\n",
       "            <th>amount</th>\n",
       "        </tr>\n",
       "    </thead>\n",
       "    <tbody>\n",
       "        <tr>\n",
       "            <td>20181103</td>\n",
       "            <td>1541203200</td>\n",
       "            <td>S14006</td>\n",
       "            <td>112</td>\n",
       "            <td>1</td>\n",
       "            <td>CS006214000001</td>\n",
       "            <td>P070305012</td>\n",
       "            <td>1</td>\n",
       "            <td>158</td>\n",
       "        </tr>\n",
       "        <tr>\n",
       "            <td>20181118</td>\n",
       "            <td>1542499200</td>\n",
       "            <td>S13008</td>\n",
       "            <td>1132</td>\n",
       "            <td>2</td>\n",
       "            <td>CS008415000097</td>\n",
       "            <td>P070701017</td>\n",
       "            <td>1</td>\n",
       "            <td>81</td>\n",
       "        </tr>\n",
       "        <tr>\n",
       "            <td>20170712</td>\n",
       "            <td>1499817600</td>\n",
       "            <td>S14028</td>\n",
       "            <td>1102</td>\n",
       "            <td>1</td>\n",
       "            <td>CS028414000014</td>\n",
       "            <td>P060101005</td>\n",
       "            <td>1</td>\n",
       "            <td>170</td>\n",
       "        </tr>\n",
       "        <tr>\n",
       "            <td>20190205</td>\n",
       "            <td>1549324800</td>\n",
       "            <td>S14042</td>\n",
       "            <td>1132</td>\n",
       "            <td>1</td>\n",
       "            <td>ZZ000000000000</td>\n",
       "            <td>P050301001</td>\n",
       "            <td>1</td>\n",
       "            <td>25</td>\n",
       "        </tr>\n",
       "        <tr>\n",
       "            <td>20180821</td>\n",
       "            <td>1534809600</td>\n",
       "            <td>S14025</td>\n",
       "            <td>1102</td>\n",
       "            <td>2</td>\n",
       "            <td>CS025415000050</td>\n",
       "            <td>P060102007</td>\n",
       "            <td>1</td>\n",
       "            <td>90</td>\n",
       "        </tr>\n",
       "        <tr>\n",
       "            <td>20190605</td>\n",
       "            <td>1559692800</td>\n",
       "            <td>S13003</td>\n",
       "            <td>1112</td>\n",
       "            <td>1</td>\n",
       "            <td>CS003515000195</td>\n",
       "            <td>P050102002</td>\n",
       "            <td>1</td>\n",
       "            <td>138</td>\n",
       "        </tr>\n",
       "        <tr>\n",
       "            <td>20181205</td>\n",
       "            <td>1543968000</td>\n",
       "            <td>S14024</td>\n",
       "            <td>1102</td>\n",
       "            <td>2</td>\n",
       "            <td>CS024514000042</td>\n",
       "            <td>P080101005</td>\n",
       "            <td>1</td>\n",
       "            <td>30</td>\n",
       "        </tr>\n",
       "        <tr>\n",
       "            <td>20190922</td>\n",
       "            <td>1569110400</td>\n",
       "            <td>S14040</td>\n",
       "            <td>1102</td>\n",
       "            <td>1</td>\n",
       "            <td>CS040415000178</td>\n",
       "            <td>P070501004</td>\n",
       "            <td>1</td>\n",
       "            <td>128</td>\n",
       "        </tr>\n",
       "        <tr>\n",
       "            <td>20170504</td>\n",
       "            <td>1493856000</td>\n",
       "            <td>S13020</td>\n",
       "            <td>1112</td>\n",
       "            <td>2</td>\n",
       "            <td>ZZ000000000000</td>\n",
       "            <td>P071302010</td>\n",
       "            <td>1</td>\n",
       "            <td>770</td>\n",
       "        </tr>\n",
       "        <tr>\n",
       "            <td>20191010</td>\n",
       "            <td>1570665600</td>\n",
       "            <td>S14027</td>\n",
       "            <td>1102</td>\n",
       "            <td>1</td>\n",
       "            <td>CS027514000015</td>\n",
       "            <td>P071101003</td>\n",
       "            <td>1</td>\n",
       "            <td>680</td>\n",
       "        </tr>\n",
       "    </tbody>\n",
       "</table>"
      ],
      "text/plain": [
       "[(20181103, 1541203200, 'S14006', 112, 1, 'CS006214000001', 'P070305012', 1, 158),\n",
       " (20181118, 1542499200, 'S13008', 1132, 2, 'CS008415000097', 'P070701017', 1, 81),\n",
       " (20170712, 1499817600, 'S14028', 1102, 1, 'CS028414000014', 'P060101005', 1, 170),\n",
       " (20190205, 1549324800, 'S14042', 1132, 1, 'ZZ000000000000', 'P050301001', 1, 25),\n",
       " (20180821, 1534809600, 'S14025', 1102, 2, 'CS025415000050', 'P060102007', 1, 90),\n",
       " (20190605, 1559692800, 'S13003', 1112, 1, 'CS003515000195', 'P050102002', 1, 138),\n",
       " (20181205, 1543968000, 'S14024', 1102, 2, 'CS024514000042', 'P080101005', 1, 30),\n",
       " (20190922, 1569110400, 'S14040', 1102, 1, 'CS040415000178', 'P070501004', 1, 128),\n",
       " (20170504, 1493856000, 'S13020', 1112, 2, 'ZZ000000000000', 'P071302010', 1, 770),\n",
       " (20191010, 1570665600, 'S14027', 1102, 1, 'CS027514000015', 'P071101003', 1, 680)]"
      ]
     },
     "execution_count": 4,
     "metadata": {},
     "output_type": "execute_result"
    }
   ],
   "source": [
    "%%sql\n",
    "select *\n",
    "from receipt\n",
    "limit 10"
   ]
  },
  {
   "cell_type": "markdown",
   "metadata": {},
   "source": [
    "---\n",
    "> S-002: レシート明細のテーブル（receipt）から売上日（sales_ymd）、顧客ID（customer_id）、商品コード（product_cd）、売上金額（amount）の順に列を指定し、10件表示させよ。"
   ]
  },
  {
   "cell_type": "code",
   "execution_count": 5,
   "metadata": {},
   "outputs": [
    {
     "name": "stdout",
     "output_type": "stream",
     "text": [
      " * postgresql://padawan:***@db:5432/dsdojo_db\n",
      "5 rows affected.\n"
     ]
    },
    {
     "data": {
      "text/html": [
       "<table>\n",
       "    <thead>\n",
       "        <tr>\n",
       "            <th>sales_ymd</th>\n",
       "            <th>customer_id</th>\n",
       "            <th>product_cd</th>\n",
       "            <th>amount</th>\n",
       "        </tr>\n",
       "    </thead>\n",
       "    <tbody>\n",
       "        <tr>\n",
       "            <td>20181103</td>\n",
       "            <td>CS006214000001</td>\n",
       "            <td>P070305012</td>\n",
       "            <td>158</td>\n",
       "        </tr>\n",
       "        <tr>\n",
       "            <td>20181118</td>\n",
       "            <td>CS008415000097</td>\n",
       "            <td>P070701017</td>\n",
       "            <td>81</td>\n",
       "        </tr>\n",
       "        <tr>\n",
       "            <td>20170712</td>\n",
       "            <td>CS028414000014</td>\n",
       "            <td>P060101005</td>\n",
       "            <td>170</td>\n",
       "        </tr>\n",
       "        <tr>\n",
       "            <td>20190205</td>\n",
       "            <td>ZZ000000000000</td>\n",
       "            <td>P050301001</td>\n",
       "            <td>25</td>\n",
       "        </tr>\n",
       "        <tr>\n",
       "            <td>20180821</td>\n",
       "            <td>CS025415000050</td>\n",
       "            <td>P060102007</td>\n",
       "            <td>90</td>\n",
       "        </tr>\n",
       "    </tbody>\n",
       "</table>"
      ],
      "text/plain": [
       "[(20181103, 'CS006214000001', 'P070305012', 158),\n",
       " (20181118, 'CS008415000097', 'P070701017', 81),\n",
       " (20170712, 'CS028414000014', 'P060101005', 170),\n",
       " (20190205, 'ZZ000000000000', 'P050301001', 25),\n",
       " (20180821, 'CS025415000050', 'P060102007', 90)]"
      ]
     },
     "execution_count": 5,
     "metadata": {},
     "output_type": "execute_result"
    }
   ],
   "source": [
    "%%sql\n",
    "select sales_ymd, customer_id, product_cd, amount\n",
    "from receipt\n",
    "limit 5"
   ]
  },
  {
   "cell_type": "markdown",
   "metadata": {},
   "source": [
    "---\n",
    "> S-003: レシート明細のテーブル（receipt）から売上日（sales_ymd）、顧客ID（customer_id）、商品コード（product_cd）、売上金額（amount）の順に列を指定し、10件表示させよ。ただし、sales_ymdはsales_dateに項目名を変更しながら抽出すること。"
   ]
  },
  {
   "cell_type": "code",
   "execution_count": 6,
   "metadata": {},
   "outputs": [
    {
     "name": "stdout",
     "output_type": "stream",
     "text": [
      " * postgresql://padawan:***@db:5432/dsdojo_db\n",
      "5 rows affected.\n"
     ]
    },
    {
     "data": {
      "text/html": [
       "<table>\n",
       "    <thead>\n",
       "        <tr>\n",
       "            <th>sales_date</th>\n",
       "            <th>customer_id</th>\n",
       "            <th>product_cd</th>\n",
       "            <th>amount</th>\n",
       "        </tr>\n",
       "    </thead>\n",
       "    <tbody>\n",
       "        <tr>\n",
       "            <td>20181103</td>\n",
       "            <td>CS006214000001</td>\n",
       "            <td>P070305012</td>\n",
       "            <td>158</td>\n",
       "        </tr>\n",
       "        <tr>\n",
       "            <td>20181118</td>\n",
       "            <td>CS008415000097</td>\n",
       "            <td>P070701017</td>\n",
       "            <td>81</td>\n",
       "        </tr>\n",
       "        <tr>\n",
       "            <td>20170712</td>\n",
       "            <td>CS028414000014</td>\n",
       "            <td>P060101005</td>\n",
       "            <td>170</td>\n",
       "        </tr>\n",
       "        <tr>\n",
       "            <td>20190205</td>\n",
       "            <td>ZZ000000000000</td>\n",
       "            <td>P050301001</td>\n",
       "            <td>25</td>\n",
       "        </tr>\n",
       "        <tr>\n",
       "            <td>20180821</td>\n",
       "            <td>CS025415000050</td>\n",
       "            <td>P060102007</td>\n",
       "            <td>90</td>\n",
       "        </tr>\n",
       "    </tbody>\n",
       "</table>"
      ],
      "text/plain": [
       "[(20181103, 'CS006214000001', 'P070305012', 158),\n",
       " (20181118, 'CS008415000097', 'P070701017', 81),\n",
       " (20170712, 'CS028414000014', 'P060101005', 170),\n",
       " (20190205, 'ZZ000000000000', 'P050301001', 25),\n",
       " (20180821, 'CS025415000050', 'P060102007', 90)]"
      ]
     },
     "execution_count": 6,
     "metadata": {},
     "output_type": "execute_result"
    }
   ],
   "source": [
    "%%sql\n",
    "select sales_ymd as sales_date, customer_id, product_cd, amount\n",
    "from receipt\n",
    "limit 5"
   ]
  },
  {
   "cell_type": "markdown",
   "metadata": {},
   "source": [
    "---\n",
    "> S-004: レシート明細のテーブル（receipt）から売上日（sales_ymd）、顧客ID（customer_id）、商品コード（product_cd）、売上金額（amount）の順に列を指定し、以下の条件を満たすデータを抽出せよ\n",
    "> - 顧客ID（customer_id）が\"CS018205000001\""
   ]
  },
  {
   "cell_type": "code",
   "execution_count": 11,
   "metadata": {},
   "outputs": [
    {
     "name": "stdout",
     "output_type": "stream",
     "text": [
      " * postgresql://padawan:***@db:5432/dsdojo_db\n",
      "5 rows affected.\n"
     ]
    },
    {
     "data": {
      "text/html": [
       "<table>\n",
       "    <thead>\n",
       "        <tr>\n",
       "            <th>sales_ymd</th>\n",
       "            <th>customer_id</th>\n",
       "            <th>product_cd</th>\n",
       "            <th>amount</th>\n",
       "        </tr>\n",
       "    </thead>\n",
       "    <tbody>\n",
       "        <tr>\n",
       "            <td>20180911</td>\n",
       "            <td>CS018205000001</td>\n",
       "            <td>P071401012</td>\n",
       "            <td>2200</td>\n",
       "        </tr>\n",
       "        <tr>\n",
       "            <td>20180414</td>\n",
       "            <td>CS018205000001</td>\n",
       "            <td>P060104007</td>\n",
       "            <td>600</td>\n",
       "        </tr>\n",
       "        <tr>\n",
       "            <td>20170614</td>\n",
       "            <td>CS018205000001</td>\n",
       "            <td>P050206001</td>\n",
       "            <td>990</td>\n",
       "        </tr>\n",
       "        <tr>\n",
       "            <td>20170614</td>\n",
       "            <td>CS018205000001</td>\n",
       "            <td>P060702015</td>\n",
       "            <td>108</td>\n",
       "        </tr>\n",
       "        <tr>\n",
       "            <td>20190216</td>\n",
       "            <td>CS018205000001</td>\n",
       "            <td>P071005024</td>\n",
       "            <td>102</td>\n",
       "        </tr>\n",
       "    </tbody>\n",
       "</table>"
      ],
      "text/plain": [
       "[(20180911, 'CS018205000001', 'P071401012', 2200),\n",
       " (20180414, 'CS018205000001', 'P060104007', 600),\n",
       " (20170614, 'CS018205000001', 'P050206001', 990),\n",
       " (20170614, 'CS018205000001', 'P060702015', 108),\n",
       " (20190216, 'CS018205000001', 'P071005024', 102)]"
      ]
     },
     "execution_count": 11,
     "metadata": {},
     "output_type": "execute_result"
    }
   ],
   "source": [
    "%%sql\n",
    "\n",
    "select sales_ymd , customer_id, product_cd, amount\n",
    "from receipt\n",
    "where customer_id = 'CS018205000001'\n",
    "limit 5\n",
    "-- なぜかシングルクウォートじゃないと動かない"
   ]
  },
  {
   "cell_type": "markdown",
   "metadata": {},
   "source": [
    "---\n",
    "> S-005: レシート明細のテーブル（receipt）から売上日（sales_ymd）、顧客ID（customer_id）、商品コード（product_cd）、売上金額（amount）の順に列を指定し、以下の条件を満たすデータを抽出せよ。\n",
    "> - 顧客ID（customer_id）が\"CS018205000001\"\n",
    "> - 売上金額（amount）が1,000以上"
   ]
  },
  {
   "cell_type": "code",
   "execution_count": 13,
   "metadata": {},
   "outputs": [
    {
     "name": "stdout",
     "output_type": "stream",
     "text": [
      " * postgresql://padawan:***@db:5432/dsdojo_db\n",
      "3 rows affected.\n"
     ]
    },
    {
     "data": {
      "text/html": [
       "<table>\n",
       "    <thead>\n",
       "        <tr>\n",
       "            <th>sales_ymd</th>\n",
       "            <th>customer_id</th>\n",
       "            <th>product_cd</th>\n",
       "            <th>amount</th>\n",
       "        </tr>\n",
       "    </thead>\n",
       "    <tbody>\n",
       "        <tr>\n",
       "            <td>20180911</td>\n",
       "            <td>CS018205000001</td>\n",
       "            <td>P071401012</td>\n",
       "            <td>2200</td>\n",
       "        </tr>\n",
       "        <tr>\n",
       "            <td>20190226</td>\n",
       "            <td>CS018205000001</td>\n",
       "            <td>P071401020</td>\n",
       "            <td>2200</td>\n",
       "        </tr>\n",
       "        <tr>\n",
       "            <td>20180911</td>\n",
       "            <td>CS018205000001</td>\n",
       "            <td>P071401005</td>\n",
       "            <td>1100</td>\n",
       "        </tr>\n",
       "    </tbody>\n",
       "</table>"
      ],
      "text/plain": [
       "[(20180911, 'CS018205000001', 'P071401012', 2200),\n",
       " (20190226, 'CS018205000001', 'P071401020', 2200),\n",
       " (20180911, 'CS018205000001', 'P071401005', 1100)]"
      ]
     },
     "execution_count": 13,
     "metadata": {},
     "output_type": "execute_result"
    }
   ],
   "source": [
    "%%sql\n",
    "\n",
    "select sales_ymd , customer_id, product_cd, amount\n",
    "from receipt\n",
    "where (customer_id = 'CS018205000001') and (amount >= 1000)\n",
    "limit 10"
   ]
  },
  {
   "cell_type": "markdown",
   "metadata": {},
   "source": [
    "---\n",
    "> S-006: レシート明細テーブル（receipt）から売上日（sales_ymd）、顧客ID（customer_id）、商品コード（product_cd）、売上数量（quantity）、売上金額（amount）の順に列を指定し、以下の条件を満たすデータを抽出せよ。\n",
    "> - 顧客ID（customer_id）が\"CS018205000001\"\n",
    "> - 売上金額（amount）が1,000以上または売上数量（quantity）が5以上"
   ]
  },
  {
   "cell_type": "code",
   "execution_count": 14,
   "metadata": {},
   "outputs": [
    {
     "name": "stdout",
     "output_type": "stream",
     "text": [
      " * postgresql://padawan:***@db:5432/dsdojo_db\n",
      "5 rows affected.\n"
     ]
    },
    {
     "data": {
      "text/html": [
       "<table>\n",
       "    <thead>\n",
       "        <tr>\n",
       "            <th>sales_ymd</th>\n",
       "            <th>customer_id</th>\n",
       "            <th>quantity</th>\n",
       "            <th>product_cd</th>\n",
       "            <th>amount</th>\n",
       "        </tr>\n",
       "    </thead>\n",
       "    <tbody>\n",
       "        <tr>\n",
       "            <td>20180911</td>\n",
       "            <td>CS018205000001</td>\n",
       "            <td>1</td>\n",
       "            <td>P071401012</td>\n",
       "            <td>2200</td>\n",
       "        </tr>\n",
       "        <tr>\n",
       "            <td>20180414</td>\n",
       "            <td>CS018205000001</td>\n",
       "            <td>6</td>\n",
       "            <td>P060104007</td>\n",
       "            <td>600</td>\n",
       "        </tr>\n",
       "        <tr>\n",
       "            <td>20170614</td>\n",
       "            <td>CS018205000001</td>\n",
       "            <td>5</td>\n",
       "            <td>P050206001</td>\n",
       "            <td>990</td>\n",
       "        </tr>\n",
       "        <tr>\n",
       "            <td>20190226</td>\n",
       "            <td>CS018205000001</td>\n",
       "            <td>1</td>\n",
       "            <td>P071401020</td>\n",
       "            <td>2200</td>\n",
       "        </tr>\n",
       "        <tr>\n",
       "            <td>20180911</td>\n",
       "            <td>CS018205000001</td>\n",
       "            <td>1</td>\n",
       "            <td>P071401005</td>\n",
       "            <td>1100</td>\n",
       "        </tr>\n",
       "    </tbody>\n",
       "</table>"
      ],
      "text/plain": [
       "[(20180911, 'CS018205000001', 1, 'P071401012', 2200),\n",
       " (20180414, 'CS018205000001', 6, 'P060104007', 600),\n",
       " (20170614, 'CS018205000001', 5, 'P050206001', 990),\n",
       " (20190226, 'CS018205000001', 1, 'P071401020', 2200),\n",
       " (20180911, 'CS018205000001', 1, 'P071401005', 1100)]"
      ]
     },
     "execution_count": 14,
     "metadata": {},
     "output_type": "execute_result"
    }
   ],
   "source": [
    "%%sql\n",
    "select sales_ymd , customer_id, quantity, product_cd, amount\n",
    "from receipt\n",
    "where (customer_id = 'CS018205000001') and (amount >= 1000 or quantity >= 5)\n",
    "limit 10"
   ]
  },
  {
   "cell_type": "markdown",
   "metadata": {},
   "source": [
    "---\n",
    "> S-007: レシート明細のテーブル（receipt）から売上日（sales_ymd）、顧客ID（customer_id）、商品コード（product_cd）、売上金額（amount）の順に列を指定し、以下の条件を満たすデータを抽出せよ。\n",
    "> - 顧客ID（customer_id）が\"CS018205000001\"\n",
    "> - 売上金額（amount）が1,000以上2,000以下"
   ]
  },
  {
   "cell_type": "code",
   "execution_count": 22,
   "metadata": {},
   "outputs": [
    {
     "name": "stdout",
     "output_type": "stream",
     "text": [
      " * postgresql://padawan:***@db:5432/dsdojo_db\n",
      "1 rows affected.\n"
     ]
    },
    {
     "data": {
      "text/html": [
       "<table>\n",
       "    <thead>\n",
       "        <tr>\n",
       "            <th>sales_ymd</th>\n",
       "            <th>customer_id</th>\n",
       "            <th>product_cd</th>\n",
       "            <th>amount</th>\n",
       "        </tr>\n",
       "    </thead>\n",
       "    <tbody>\n",
       "        <tr>\n",
       "            <td>20180911</td>\n",
       "            <td>CS018205000001</td>\n",
       "            <td>P071401005</td>\n",
       "            <td>1100</td>\n",
       "        </tr>\n",
       "    </tbody>\n",
       "</table>"
      ],
      "text/plain": [
       "[(20180911, 'CS018205000001', 'P071401005', 1100)]"
      ]
     },
     "execution_count": 22,
     "metadata": {},
     "output_type": "execute_result"
    }
   ],
   "source": [
    "%%sql\n",
    "\n",
    "select sales_ymd , customer_id, product_cd, amount\n",
    "from receipt\n",
    "where customer_id = 'CS018205000001' and amount between 1000 and 2000\n",
    "limit 10"
   ]
  },
  {
   "cell_type": "markdown",
   "metadata": {},
   "source": [
    "---\n",
    "> S-008: レシート明細テーブル（receipt）から売上日（sales_ymd）、顧客ID（customer_id）、商品コード（product_cd）、売上金額（amount）の順に列を指定し、以下の条件を満たすデータを抽出せよ\n",
    "> - 顧客ID（customer_id）が\"CS018205000001\"\n",
    "> - 商品コード（product_cd）が\"P071401019\"以外"
   ]
  },
  {
   "cell_type": "code",
   "execution_count": 24,
   "metadata": {},
   "outputs": [
    {
     "name": "stdout",
     "output_type": "stream",
     "text": [
      " * postgresql://padawan:***@db:5432/dsdojo_db\n",
      "12 rows affected.\n"
     ]
    },
    {
     "data": {
      "text/html": [
       "<table>\n",
       "    <thead>\n",
       "        <tr>\n",
       "            <th>sales_ymd</th>\n",
       "            <th>customer_id</th>\n",
       "            <th>product_cd</th>\n",
       "            <th>amount</th>\n",
       "        </tr>\n",
       "    </thead>\n",
       "    <tbody>\n",
       "        <tr>\n",
       "            <td>20180911</td>\n",
       "            <td>CS018205000001</td>\n",
       "            <td>P071401012</td>\n",
       "            <td>2200</td>\n",
       "        </tr>\n",
       "        <tr>\n",
       "            <td>20180414</td>\n",
       "            <td>CS018205000001</td>\n",
       "            <td>P060104007</td>\n",
       "            <td>600</td>\n",
       "        </tr>\n",
       "        <tr>\n",
       "            <td>20170614</td>\n",
       "            <td>CS018205000001</td>\n",
       "            <td>P050206001</td>\n",
       "            <td>990</td>\n",
       "        </tr>\n",
       "        <tr>\n",
       "            <td>20170614</td>\n",
       "            <td>CS018205000001</td>\n",
       "            <td>P060702015</td>\n",
       "            <td>108</td>\n",
       "        </tr>\n",
       "        <tr>\n",
       "            <td>20190216</td>\n",
       "            <td>CS018205000001</td>\n",
       "            <td>P071005024</td>\n",
       "            <td>102</td>\n",
       "        </tr>\n",
       "        <tr>\n",
       "            <td>20180414</td>\n",
       "            <td>CS018205000001</td>\n",
       "            <td>P071101002</td>\n",
       "            <td>278</td>\n",
       "        </tr>\n",
       "        <tr>\n",
       "            <td>20190226</td>\n",
       "            <td>CS018205000001</td>\n",
       "            <td>P070902035</td>\n",
       "            <td>168</td>\n",
       "        </tr>\n",
       "        <tr>\n",
       "            <td>20190924</td>\n",
       "            <td>CS018205000001</td>\n",
       "            <td>P060805001</td>\n",
       "            <td>495</td>\n",
       "        </tr>\n",
       "        <tr>\n",
       "            <td>20190226</td>\n",
       "            <td>CS018205000001</td>\n",
       "            <td>P071401020</td>\n",
       "            <td>2200</td>\n",
       "        </tr>\n",
       "        <tr>\n",
       "            <td>20180911</td>\n",
       "            <td>CS018205000001</td>\n",
       "            <td>P071401005</td>\n",
       "            <td>1100</td>\n",
       "        </tr>\n",
       "        <tr>\n",
       "            <td>20190216</td>\n",
       "            <td>CS018205000001</td>\n",
       "            <td>P040101002</td>\n",
       "            <td>218</td>\n",
       "        </tr>\n",
       "        <tr>\n",
       "            <td>20190924</td>\n",
       "            <td>CS018205000001</td>\n",
       "            <td>P091503001</td>\n",
       "            <td>280</td>\n",
       "        </tr>\n",
       "    </tbody>\n",
       "</table>"
      ],
      "text/plain": [
       "[(20180911, 'CS018205000001', 'P071401012', 2200),\n",
       " (20180414, 'CS018205000001', 'P060104007', 600),\n",
       " (20170614, 'CS018205000001', 'P050206001', 990),\n",
       " (20170614, 'CS018205000001', 'P060702015', 108),\n",
       " (20190216, 'CS018205000001', 'P071005024', 102),\n",
       " (20180414, 'CS018205000001', 'P071101002', 278),\n",
       " (20190226, 'CS018205000001', 'P070902035', 168),\n",
       " (20190924, 'CS018205000001', 'P060805001', 495),\n",
       " (20190226, 'CS018205000001', 'P071401020', 2200),\n",
       " (20180911, 'CS018205000001', 'P071401005', 1100),\n",
       " (20190216, 'CS018205000001', 'P040101002', 218),\n",
       " (20190924, 'CS018205000001', 'P091503001', 280)]"
      ]
     },
     "execution_count": 24,
     "metadata": {},
     "output_type": "execute_result"
    }
   ],
   "source": [
    "%%sql\n",
    "\n",
    "select sales_ymd , customer_id, product_cd, amount\n",
    "from receipt\n",
    "where customer_id = 'CS018205000001' and product_cd != 'P071401019'"
   ]
  },
  {
   "cell_type": "markdown",
   "metadata": {},
   "source": [
    "---\n",
    "> S-009: 以下の処理において、出力結果を変えずにORをANDに書き換えよ。\n",
    "\n",
    "`select * from store where not (prefecture_cd = '13' or floor_area > 900)`"
   ]
  },
  {
   "cell_type": "code",
   "execution_count": 25,
   "metadata": {},
   "outputs": [
    {
     "name": "stdout",
     "output_type": "stream",
     "text": [
      " * postgresql://padawan:***@db:5432/dsdojo_db\n",
      "3 rows affected.\n"
     ]
    },
    {
     "data": {
      "text/html": [
       "<table>\n",
       "    <thead>\n",
       "        <tr>\n",
       "            <th>store_cd</th>\n",
       "            <th>store_name</th>\n",
       "            <th>prefecture_cd</th>\n",
       "            <th>prefecture</th>\n",
       "            <th>address</th>\n",
       "            <th>address_kana</th>\n",
       "            <th>tel_no</th>\n",
       "            <th>longitude</th>\n",
       "            <th>latitude</th>\n",
       "            <th>floor_area</th>\n",
       "        </tr>\n",
       "    </thead>\n",
       "    <tbody>\n",
       "        <tr>\n",
       "            <td>S14046</td>\n",
       "            <td>北山田店</td>\n",
       "            <td>14</td>\n",
       "            <td>神奈川県</td>\n",
       "            <td>神奈川県横浜市都筑区北山田一丁目</td>\n",
       "            <td>カナガワケンヨコハマシツヅキクキタヤマタイッチョウメ</td>\n",
       "            <td>045-123-4049</td>\n",
       "            <td>139.5916</td>\n",
       "            <td>35.56189</td>\n",
       "            <td>831.0</td>\n",
       "        </tr>\n",
       "        <tr>\n",
       "            <td>S14011</td>\n",
       "            <td>日吉本町店</td>\n",
       "            <td>14</td>\n",
       "            <td>神奈川県</td>\n",
       "            <td>神奈川県横浜市港北区日吉本町四丁目</td>\n",
       "            <td>カナガワケンヨコハマシコウホククヒヨシホンチョウヨンチョウメ</td>\n",
       "            <td>045-123-4033</td>\n",
       "            <td>139.6316</td>\n",
       "            <td>35.54655</td>\n",
       "            <td>890.0</td>\n",
       "        </tr>\n",
       "        <tr>\n",
       "            <td>S12013</td>\n",
       "            <td>習志野店</td>\n",
       "            <td>12</td>\n",
       "            <td>千葉県</td>\n",
       "            <td>千葉県習志野市芝園一丁目</td>\n",
       "            <td>チバケンナラシノシシバゾノイッチョウメ</td>\n",
       "            <td>047-123-4002</td>\n",
       "            <td>140.022</td>\n",
       "            <td>35.66122</td>\n",
       "            <td>808.0</td>\n",
       "        </tr>\n",
       "    </tbody>\n",
       "</table>"
      ],
      "text/plain": [
       "[('S14046', '北山田店', '14', '神奈川県', '神奈川県横浜市都筑区北山田一丁目', 'カナガワケンヨコハマシツヅキクキタヤマタイッチョウメ', '045-123-4049', Decimal('139.5916'), Decimal('35.56189'), Decimal('831.0')),\n",
       " ('S14011', '日吉本町店', '14', '神奈川県', '神奈川県横浜市港北区日吉本町四丁目', 'カナガワケンヨコハマシコウホククヒヨシホンチョウヨンチョウメ', '045-123-4033', Decimal('139.6316'), Decimal('35.54655'), Decimal('890.0')),\n",
       " ('S12013', '習志野店', '12', '千葉県', '千葉県習志野市芝園一丁目', 'チバケンナラシノシシバゾノイッチョウメ', '047-123-4002', Decimal('140.022'), Decimal('35.66122'), Decimal('808.0'))]"
      ]
     },
     "execution_count": 25,
     "metadata": {},
     "output_type": "execute_result"
    }
   ],
   "source": [
    "%%sql\n",
    "\n",
    "select * \n",
    "from store\n",
    "where prefecture_cd != '13' and floor_area <= 900\n",
    "limit 10"
   ]
  },
  {
   "cell_type": "markdown",
   "metadata": {},
   "source": [
    "---\n",
    "> S-010: 店舗テーブル（store）から、店舗コード（store_cd）が\"S14\"で始まるものだけ全項目抽出し、10件だけ表示せよ。"
   ]
  },
  {
   "cell_type": "code",
   "execution_count": 29,
   "metadata": {},
   "outputs": [
    {
     "name": "stdout",
     "output_type": "stream",
     "text": [
      " * postgresql://padawan:***@db:5432/dsdojo_db\n",
      "10 rows affected.\n"
     ]
    },
    {
     "data": {
      "text/html": [
       "<table>\n",
       "    <thead>\n",
       "        <tr>\n",
       "            <th>sales_ymd</th>\n",
       "            <th>sales_epoch</th>\n",
       "            <th>store_cd</th>\n",
       "            <th>receipt_no</th>\n",
       "            <th>receipt_sub_no</th>\n",
       "            <th>customer_id</th>\n",
       "            <th>product_cd</th>\n",
       "            <th>quantity</th>\n",
       "            <th>amount</th>\n",
       "        </tr>\n",
       "    </thead>\n",
       "    <tbody>\n",
       "        <tr>\n",
       "            <td>20181103</td>\n",
       "            <td>1541203200</td>\n",
       "            <td>S14006</td>\n",
       "            <td>112</td>\n",
       "            <td>1</td>\n",
       "            <td>CS006214000001</td>\n",
       "            <td>P070305012</td>\n",
       "            <td>1</td>\n",
       "            <td>158</td>\n",
       "        </tr>\n",
       "        <tr>\n",
       "            <td>20170712</td>\n",
       "            <td>1499817600</td>\n",
       "            <td>S14028</td>\n",
       "            <td>1102</td>\n",
       "            <td>1</td>\n",
       "            <td>CS028414000014</td>\n",
       "            <td>P060101005</td>\n",
       "            <td>1</td>\n",
       "            <td>170</td>\n",
       "        </tr>\n",
       "        <tr>\n",
       "            <td>20190205</td>\n",
       "            <td>1549324800</td>\n",
       "            <td>S14042</td>\n",
       "            <td>1132</td>\n",
       "            <td>1</td>\n",
       "            <td>ZZ000000000000</td>\n",
       "            <td>P050301001</td>\n",
       "            <td>1</td>\n",
       "            <td>25</td>\n",
       "        </tr>\n",
       "        <tr>\n",
       "            <td>20180821</td>\n",
       "            <td>1534809600</td>\n",
       "            <td>S14025</td>\n",
       "            <td>1102</td>\n",
       "            <td>2</td>\n",
       "            <td>CS025415000050</td>\n",
       "            <td>P060102007</td>\n",
       "            <td>1</td>\n",
       "            <td>90</td>\n",
       "        </tr>\n",
       "        <tr>\n",
       "            <td>20181205</td>\n",
       "            <td>1543968000</td>\n",
       "            <td>S14024</td>\n",
       "            <td>1102</td>\n",
       "            <td>2</td>\n",
       "            <td>CS024514000042</td>\n",
       "            <td>P080101005</td>\n",
       "            <td>1</td>\n",
       "            <td>30</td>\n",
       "        </tr>\n",
       "        <tr>\n",
       "            <td>20190922</td>\n",
       "            <td>1569110400</td>\n",
       "            <td>S14040</td>\n",
       "            <td>1102</td>\n",
       "            <td>1</td>\n",
       "            <td>CS040415000178</td>\n",
       "            <td>P070501004</td>\n",
       "            <td>1</td>\n",
       "            <td>128</td>\n",
       "        </tr>\n",
       "        <tr>\n",
       "            <td>20191010</td>\n",
       "            <td>1570665600</td>\n",
       "            <td>S14027</td>\n",
       "            <td>1102</td>\n",
       "            <td>1</td>\n",
       "            <td>CS027514000015</td>\n",
       "            <td>P071101003</td>\n",
       "            <td>1</td>\n",
       "            <td>680</td>\n",
       "        </tr>\n",
       "        <tr>\n",
       "            <td>20190918</td>\n",
       "            <td>1568764800</td>\n",
       "            <td>S14025</td>\n",
       "            <td>1182</td>\n",
       "            <td>2</td>\n",
       "            <td>CS025415000134</td>\n",
       "            <td>P070401002</td>\n",
       "            <td>1</td>\n",
       "            <td>138</td>\n",
       "        </tr>\n",
       "        <tr>\n",
       "            <td>20171010</td>\n",
       "            <td>1507593600</td>\n",
       "            <td>S14021</td>\n",
       "            <td>1162</td>\n",
       "            <td>1</td>\n",
       "            <td>CS021515000126</td>\n",
       "            <td>P040402001</td>\n",
       "            <td>1</td>\n",
       "            <td>228</td>\n",
       "        </tr>\n",
       "        <tr>\n",
       "            <td>20190603</td>\n",
       "            <td>1559520000</td>\n",
       "            <td>S14026</td>\n",
       "            <td>1182</td>\n",
       "            <td>1</td>\n",
       "            <td>CS026515000042</td>\n",
       "            <td>P070504016</td>\n",
       "            <td>1</td>\n",
       "            <td>188</td>\n",
       "        </tr>\n",
       "    </tbody>\n",
       "</table>"
      ],
      "text/plain": [
       "[(20181103, 1541203200, 'S14006', 112, 1, 'CS006214000001', 'P070305012', 1, 158),\n",
       " (20170712, 1499817600, 'S14028', 1102, 1, 'CS028414000014', 'P060101005', 1, 170),\n",
       " (20190205, 1549324800, 'S14042', 1132, 1, 'ZZ000000000000', 'P050301001', 1, 25),\n",
       " (20180821, 1534809600, 'S14025', 1102, 2, 'CS025415000050', 'P060102007', 1, 90),\n",
       " (20181205, 1543968000, 'S14024', 1102, 2, 'CS024514000042', 'P080101005', 1, 30),\n",
       " (20190922, 1569110400, 'S14040', 1102, 1, 'CS040415000178', 'P070501004', 1, 128),\n",
       " (20191010, 1570665600, 'S14027', 1102, 1, 'CS027514000015', 'P071101003', 1, 680),\n",
       " (20190918, 1568764800, 'S14025', 1182, 2, 'CS025415000134', 'P070401002', 1, 138),\n",
       " (20171010, 1507593600, 'S14021', 1162, 1, 'CS021515000126', 'P040402001', 1, 228),\n",
       " (20190603, 1559520000, 'S14026', 1182, 1, 'CS026515000042', 'P070504016', 1, 188)]"
      ]
     },
     "execution_count": 29,
     "metadata": {},
     "output_type": "execute_result"
    }
   ],
   "source": [
    "%%sql\n",
    "\n",
    "select *\n",
    "from receipt\n",
    "where store_cd like 'S14%'\n",
    "limit 10"
   ]
  },
  {
   "cell_type": "markdown",
   "metadata": {},
   "source": [
    "---\n",
    "> S-011: 顧客テーブル（customer）から顧客ID（customer_id）の末尾が1のものだけ全項目抽出し、10件だけ表示せよ。\n"
   ]
  },
  {
   "cell_type": "code",
   "execution_count": 30,
   "metadata": {},
   "outputs": [
    {
     "name": "stdout",
     "output_type": "stream",
     "text": [
      " * postgresql://padawan:***@db:5432/dsdojo_db\n",
      "10 rows affected.\n"
     ]
    },
    {
     "data": {
      "text/html": [
       "<table>\n",
       "    <thead>\n",
       "        <tr>\n",
       "            <th>customer_id</th>\n",
       "            <th>customer_name</th>\n",
       "            <th>gender_cd</th>\n",
       "            <th>gender</th>\n",
       "            <th>birth_day</th>\n",
       "            <th>age</th>\n",
       "            <th>postal_cd</th>\n",
       "            <th>address</th>\n",
       "            <th>application_store_cd</th>\n",
       "            <th>application_date</th>\n",
       "            <th>status_cd</th>\n",
       "        </tr>\n",
       "    </thead>\n",
       "    <tbody>\n",
       "        <tr>\n",
       "            <td>CS037613000071</td>\n",
       "            <td>六角 雅彦</td>\n",
       "            <td>9</td>\n",
       "            <td>不明</td>\n",
       "            <td>1952-04-01</td>\n",
       "            <td>66</td>\n",
       "            <td>136-0076</td>\n",
       "            <td>東京都江東区南砂**********</td>\n",
       "            <td>S13037</td>\n",
       "            <td>20150414</td>\n",
       "            <td>0-00000000-0</td>\n",
       "        </tr>\n",
       "        <tr>\n",
       "            <td>CS028811000001</td>\n",
       "            <td>堀井 かおり</td>\n",
       "            <td>1</td>\n",
       "            <td>女性</td>\n",
       "            <td>1933-03-27</td>\n",
       "            <td>86</td>\n",
       "            <td>245-0016</td>\n",
       "            <td>神奈川県横浜市泉区和泉町**********</td>\n",
       "            <td>S14028</td>\n",
       "            <td>20160115</td>\n",
       "            <td>0-00000000-0</td>\n",
       "        </tr>\n",
       "        <tr>\n",
       "            <td>CS040412000191</td>\n",
       "            <td>川井 郁恵</td>\n",
       "            <td>1</td>\n",
       "            <td>女性</td>\n",
       "            <td>1977-01-05</td>\n",
       "            <td>42</td>\n",
       "            <td>226-0021</td>\n",
       "            <td>神奈川県横浜市緑区北八朔町**********</td>\n",
       "            <td>S14040</td>\n",
       "            <td>20151101</td>\n",
       "            <td>1-20091025-4</td>\n",
       "        </tr>\n",
       "        <tr>\n",
       "            <td>CS028314000011</td>\n",
       "            <td>小菅 あおい</td>\n",
       "            <td>1</td>\n",
       "            <td>女性</td>\n",
       "            <td>1983-11-26</td>\n",
       "            <td>35</td>\n",
       "            <td>246-0038</td>\n",
       "            <td>神奈川県横浜市瀬谷区宮沢**********</td>\n",
       "            <td>S14028</td>\n",
       "            <td>20151123</td>\n",
       "            <td>1-20080426-5</td>\n",
       "        </tr>\n",
       "        <tr>\n",
       "            <td>CS039212000051</td>\n",
       "            <td>藤島 恵梨香</td>\n",
       "            <td>1</td>\n",
       "            <td>女性</td>\n",
       "            <td>1997-02-03</td>\n",
       "            <td>22</td>\n",
       "            <td>166-0001</td>\n",
       "            <td>東京都杉並区阿佐谷北**********</td>\n",
       "            <td>S13039</td>\n",
       "            <td>20171121</td>\n",
       "            <td>1-20100215-4</td>\n",
       "        </tr>\n",
       "        <tr>\n",
       "            <td>CS015412000111</td>\n",
       "            <td>松居 奈月</td>\n",
       "            <td>1</td>\n",
       "            <td>女性</td>\n",
       "            <td>1972-10-04</td>\n",
       "            <td>46</td>\n",
       "            <td>136-0071</td>\n",
       "            <td>東京都江東区亀戸**********</td>\n",
       "            <td>S13015</td>\n",
       "            <td>20150629</td>\n",
       "            <td>0-00000000-0</td>\n",
       "        </tr>\n",
       "        <tr>\n",
       "            <td>CS004702000041</td>\n",
       "            <td>野島 洋</td>\n",
       "            <td>0</td>\n",
       "            <td>男性</td>\n",
       "            <td>1943-08-24</td>\n",
       "            <td>75</td>\n",
       "            <td>176-0022</td>\n",
       "            <td>東京都練馬区向山**********</td>\n",
       "            <td>S13004</td>\n",
       "            <td>20170218</td>\n",
       "            <td>0-00000000-0</td>\n",
       "        </tr>\n",
       "        <tr>\n",
       "            <td>CS041515000001</td>\n",
       "            <td>栗田 千夏</td>\n",
       "            <td>1</td>\n",
       "            <td>女性</td>\n",
       "            <td>1967-01-02</td>\n",
       "            <td>52</td>\n",
       "            <td>206-0001</td>\n",
       "            <td>東京都多摩市和田**********</td>\n",
       "            <td>S13041</td>\n",
       "            <td>20160422</td>\n",
       "            <td>E-20100803-F</td>\n",
       "        </tr>\n",
       "        <tr>\n",
       "            <td>CS029313000221</td>\n",
       "            <td>北条 ひかり</td>\n",
       "            <td>1</td>\n",
       "            <td>女性</td>\n",
       "            <td>1987-06-19</td>\n",
       "            <td>31</td>\n",
       "            <td>279-0011</td>\n",
       "            <td>千葉県浦安市美浜**********</td>\n",
       "            <td>S12029</td>\n",
       "            <td>20180810</td>\n",
       "            <td>0-00000000-0</td>\n",
       "        </tr>\n",
       "        <tr>\n",
       "            <td>CS034312000071</td>\n",
       "            <td>望月 奈央</td>\n",
       "            <td>1</td>\n",
       "            <td>女性</td>\n",
       "            <td>1980-09-20</td>\n",
       "            <td>38</td>\n",
       "            <td>213-0026</td>\n",
       "            <td>神奈川県川崎市高津区久末**********</td>\n",
       "            <td>S14034</td>\n",
       "            <td>20160106</td>\n",
       "            <td>0-00000000-0</td>\n",
       "        </tr>\n",
       "    </tbody>\n",
       "</table>"
      ],
      "text/plain": [
       "[('CS037613000071', '六角 雅彦', '9', '不明', datetime.date(1952, 4, 1), 66, '136-0076', '東京都江東区南砂**********', 'S13037', '20150414', '0-00000000-0'),\n",
       " ('CS028811000001', '堀井 かおり', '1', '女性', datetime.date(1933, 3, 27), 86, '245-0016', '神奈川県横浜市泉区和泉町**********', 'S14028', '20160115', '0-00000000-0'),\n",
       " ('CS040412000191', '川井 郁恵', '1', '女性', datetime.date(1977, 1, 5), 42, '226-0021', '神奈川県横浜市緑区北八朔町**********', 'S14040', '20151101', '1-20091025-4'),\n",
       " ('CS028314000011', '小菅 あおい', '1', '女性', datetime.date(1983, 11, 26), 35, '246-0038', '神奈川県横浜市瀬谷区宮沢**********', 'S14028', '20151123', '1-20080426-5'),\n",
       " ('CS039212000051', '藤島 恵梨香', '1', '女性', datetime.date(1997, 2, 3), 22, '166-0001', '東京都杉並区阿佐谷北**********', 'S13039', '20171121', '1-20100215-4'),\n",
       " ('CS015412000111', '松居 奈月', '1', '女性', datetime.date(1972, 10, 4), 46, '136-0071', '東京都江東区亀戸**********', 'S13015', '20150629', '0-00000000-0'),\n",
       " ('CS004702000041', '野島 洋', '0', '男性', datetime.date(1943, 8, 24), 75, '176-0022', '東京都練馬区向山**********', 'S13004', '20170218', '0-00000000-0'),\n",
       " ('CS041515000001', '栗田 千夏', '1', '女性', datetime.date(1967, 1, 2), 52, '206-0001', '東京都多摩市和田**********', 'S13041', '20160422', 'E-20100803-F'),\n",
       " ('CS029313000221', '北条 ひかり', '1', '女性', datetime.date(1987, 6, 19), 31, '279-0011', '千葉県浦安市美浜**********', 'S12029', '20180810', '0-00000000-0'),\n",
       " ('CS034312000071', '望月 奈央', '1', '女性', datetime.date(1980, 9, 20), 38, '213-0026', '神奈川県川崎市高津区久末**********', 'S14034', '20160106', '0-00000000-0')]"
      ]
     },
     "execution_count": 30,
     "metadata": {},
     "output_type": "execute_result"
    }
   ],
   "source": [
    "%%sql\n",
    "\n",
    "select *\n",
    "from customer\n",
    "where customer_id like '%1'\n",
    "limit 10"
   ]
  },
  {
   "cell_type": "markdown",
   "metadata": {},
   "source": [
    "---\n",
    "> S-012: 店舗テーブル（store）から横浜市の店舗だけ全項目表示せよ。"
   ]
  },
  {
   "cell_type": "code",
   "execution_count": 34,
   "metadata": {},
   "outputs": [
    {
     "name": "stdout",
     "output_type": "stream",
     "text": [
      " * postgresql://padawan:***@db:5432/dsdojo_db\n",
      "3 rows affected.\n"
     ]
    },
    {
     "data": {
      "text/html": [
       "<table>\n",
       "    <thead>\n",
       "        <tr>\n",
       "            <th>store_cd</th>\n",
       "            <th>store_name</th>\n",
       "            <th>prefecture_cd</th>\n",
       "            <th>prefecture</th>\n",
       "            <th>address</th>\n",
       "            <th>address_kana</th>\n",
       "            <th>tel_no</th>\n",
       "            <th>longitude</th>\n",
       "            <th>latitude</th>\n",
       "            <th>floor_area</th>\n",
       "        </tr>\n",
       "    </thead>\n",
       "    <tbody>\n",
       "        <tr>\n",
       "            <td>S14010</td>\n",
       "            <td>菊名店</td>\n",
       "            <td>14</td>\n",
       "            <td>神奈川県</td>\n",
       "            <td>神奈川県横浜市港北区菊名一丁目</td>\n",
       "            <td>カナガワケンヨコハマシコウホククキクナイッチョウメ</td>\n",
       "            <td>045-123-4032</td>\n",
       "            <td>139.6326</td>\n",
       "            <td>35.50049</td>\n",
       "            <td>1732.0</td>\n",
       "        </tr>\n",
       "        <tr>\n",
       "            <td>S14033</td>\n",
       "            <td>阿久和店</td>\n",
       "            <td>14</td>\n",
       "            <td>神奈川県</td>\n",
       "            <td>神奈川県横浜市瀬谷区阿久和西一丁目</td>\n",
       "            <td>カナガワケンヨコハマシセヤクアクワニシイッチョウメ</td>\n",
       "            <td>045-123-4043</td>\n",
       "            <td>139.4961</td>\n",
       "            <td>35.45918</td>\n",
       "            <td>1495.0</td>\n",
       "        </tr>\n",
       "        <tr>\n",
       "            <td>S14040</td>\n",
       "            <td>長津田店</td>\n",
       "            <td>14</td>\n",
       "            <td>神奈川県</td>\n",
       "            <td>神奈川県横浜市緑区長津田みなみ台五丁目</td>\n",
       "            <td>カナガワケンヨコハマシミドリクナガツタミナミダイゴチョウメ</td>\n",
       "            <td>045-123-4046</td>\n",
       "            <td>139.4994</td>\n",
       "            <td>35.52398</td>\n",
       "            <td>1548.0</td>\n",
       "        </tr>\n",
       "    </tbody>\n",
       "</table>"
      ],
      "text/plain": [
       "[('S14010', '菊名店', '14', '神奈川県', '神奈川県横浜市港北区菊名一丁目', 'カナガワケンヨコハマシコウホククキクナイッチョウメ', '045-123-4032', Decimal('139.6326'), Decimal('35.50049'), Decimal('1732.0')),\n",
       " ('S14033', '阿久和店', '14', '神奈川県', '神奈川県横浜市瀬谷区阿久和西一丁目', 'カナガワケンヨコハマシセヤクアクワニシイッチョウメ', '045-123-4043', Decimal('139.4961'), Decimal('35.45918'), Decimal('1495.0')),\n",
       " ('S14040', '長津田店', '14', '神奈川県', '神奈川県横浜市緑区長津田みなみ台五丁目', 'カナガワケンヨコハマシミドリクナガツタミナミダイゴチョウメ', '045-123-4046', Decimal('139.4994'), Decimal('35.52398'), Decimal('1548.0'))]"
      ]
     },
     "execution_count": 34,
     "metadata": {},
     "output_type": "execute_result"
    }
   ],
   "source": [
    "%%sql\n",
    "\n",
    "select *\n",
    "from store\n",
    "where address like '%横浜市%'\n",
    "limit 3"
   ]
  },
  {
   "cell_type": "markdown",
   "metadata": {},
   "source": [
    "---\n",
    "> S-013: 顧客テーブル（customer）から、ステータスコード（status_cd）の先頭がアルファベットのA〜Fで始まるデータを全項目抽出し、10件だけ表示せよ。"
   ]
  },
  {
   "cell_type": "code",
   "execution_count": 38,
   "metadata": {},
   "outputs": [
    {
     "name": "stdout",
     "output_type": "stream",
     "text": [
      " * postgresql://padawan:***@db:5432/dsdojo_db\n",
      "5 rows affected.\n"
     ]
    },
    {
     "data": {
      "text/html": [
       "<table>\n",
       "    <thead>\n",
       "        <tr>\n",
       "            <th>customer_id</th>\n",
       "            <th>customer_name</th>\n",
       "            <th>gender_cd</th>\n",
       "            <th>gender</th>\n",
       "            <th>birth_day</th>\n",
       "            <th>age</th>\n",
       "            <th>postal_cd</th>\n",
       "            <th>address</th>\n",
       "            <th>application_store_cd</th>\n",
       "            <th>application_date</th>\n",
       "            <th>status_cd</th>\n",
       "        </tr>\n",
       "    </thead>\n",
       "    <tbody>\n",
       "        <tr>\n",
       "            <td>CS031415000172</td>\n",
       "            <td>宇多田 貴美子</td>\n",
       "            <td>1</td>\n",
       "            <td>女性</td>\n",
       "            <td>1976-10-04</td>\n",
       "            <td>42</td>\n",
       "            <td>151-0053</td>\n",
       "            <td>東京都渋谷区代々木**********</td>\n",
       "            <td>S13031</td>\n",
       "            <td>20150529</td>\n",
       "            <td>D-20100325-C</td>\n",
       "        </tr>\n",
       "        <tr>\n",
       "            <td>CS015414000103</td>\n",
       "            <td>奥野 陽子</td>\n",
       "            <td>1</td>\n",
       "            <td>女性</td>\n",
       "            <td>1977-08-09</td>\n",
       "            <td>41</td>\n",
       "            <td>136-0073</td>\n",
       "            <td>東京都江東区北砂**********</td>\n",
       "            <td>S13015</td>\n",
       "            <td>20150722</td>\n",
       "            <td>B-20100609-B</td>\n",
       "        </tr>\n",
       "        <tr>\n",
       "            <td>CS011215000048</td>\n",
       "            <td>芦田 沙耶</td>\n",
       "            <td>1</td>\n",
       "            <td>女性</td>\n",
       "            <td>1992-02-01</td>\n",
       "            <td>27</td>\n",
       "            <td>223-0062</td>\n",
       "            <td>神奈川県横浜市港北区日吉本町**********</td>\n",
       "            <td>S14011</td>\n",
       "            <td>20150228</td>\n",
       "            <td>C-20100421-9</td>\n",
       "        </tr>\n",
       "        <tr>\n",
       "            <td>CS029415000023</td>\n",
       "            <td>梅田 里穂</td>\n",
       "            <td>1</td>\n",
       "            <td>女性</td>\n",
       "            <td>1976-01-17</td>\n",
       "            <td>43</td>\n",
       "            <td>279-0043</td>\n",
       "            <td>千葉県浦安市富士見**********</td>\n",
       "            <td>S12029</td>\n",
       "            <td>20150610</td>\n",
       "            <td>D-20100918-E</td>\n",
       "        </tr>\n",
       "        <tr>\n",
       "            <td>CS035415000029</td>\n",
       "            <td>寺沢 真希</td>\n",
       "            <td>9</td>\n",
       "            <td>不明</td>\n",
       "            <td>1977-09-27</td>\n",
       "            <td>41</td>\n",
       "            <td>158-0096</td>\n",
       "            <td>東京都世田谷区玉川台**********</td>\n",
       "            <td>S13035</td>\n",
       "            <td>20141220</td>\n",
       "            <td>F-20101029-F</td>\n",
       "        </tr>\n",
       "    </tbody>\n",
       "</table>"
      ],
      "text/plain": [
       "[('CS031415000172', '宇多田 貴美子', '1', '女性', datetime.date(1976, 10, 4), 42, '151-0053', '東京都渋谷区代々木**********', 'S13031', '20150529', 'D-20100325-C'),\n",
       " ('CS015414000103', '奥野 陽子', '1', '女性', datetime.date(1977, 8, 9), 41, '136-0073', '東京都江東区北砂**********', 'S13015', '20150722', 'B-20100609-B'),\n",
       " ('CS011215000048', '芦田 沙耶', '1', '女性', datetime.date(1992, 2, 1), 27, '223-0062', '神奈川県横浜市港北区日吉本町**********', 'S14011', '20150228', 'C-20100421-9'),\n",
       " ('CS029415000023', '梅田 里穂', '1', '女性', datetime.date(1976, 1, 17), 43, '279-0043', '千葉県浦安市富士見**********', 'S12029', '20150610', 'D-20100918-E'),\n",
       " ('CS035415000029', '寺沢 真希', '9', '不明', datetime.date(1977, 9, 27), 41, '158-0096', '東京都世田谷区玉川台**********', 'S13035', '20141220', 'F-20101029-F')]"
      ]
     },
     "execution_count": 38,
     "metadata": {},
     "output_type": "execute_result"
    }
   ],
   "source": [
    "%%sql\n",
    "\n",
    "select *\n",
    "from customer \n",
    "where status_cd ~'^[A-F]'\n",
    "limit 5"
   ]
  },
  {
   "cell_type": "markdown",
   "metadata": {},
   "source": [
    "---\n",
    "> S-014: 顧客テーブル（customer）から、ステータスコード（status_cd）の末尾が数字の1〜9で終わるデータを全項目抽出し、10件だけ表示せよ。"
   ]
  },
  {
   "cell_type": "code",
   "execution_count": 39,
   "metadata": {},
   "outputs": [
    {
     "name": "stdout",
     "output_type": "stream",
     "text": [
      " * postgresql://padawan:***@db:5432/dsdojo_db\n",
      "5 rows affected.\n"
     ]
    },
    {
     "data": {
      "text/html": [
       "<table>\n",
       "    <thead>\n",
       "        <tr>\n",
       "            <th>customer_id</th>\n",
       "            <th>customer_name</th>\n",
       "            <th>gender_cd</th>\n",
       "            <th>gender</th>\n",
       "            <th>birth_day</th>\n",
       "            <th>age</th>\n",
       "            <th>postal_cd</th>\n",
       "            <th>address</th>\n",
       "            <th>application_store_cd</th>\n",
       "            <th>application_date</th>\n",
       "            <th>status_cd</th>\n",
       "        </tr>\n",
       "    </thead>\n",
       "    <tbody>\n",
       "        <tr>\n",
       "            <td>CS001215000145</td>\n",
       "            <td>田崎 美紀</td>\n",
       "            <td>1</td>\n",
       "            <td>女性</td>\n",
       "            <td>1995-03-29</td>\n",
       "            <td>24</td>\n",
       "            <td>144-0055</td>\n",
       "            <td>東京都大田区仲六郷**********</td>\n",
       "            <td>S13001</td>\n",
       "            <td>20170605</td>\n",
       "            <td>6-20090929-2</td>\n",
       "        </tr>\n",
       "        <tr>\n",
       "            <td>CS033513000180</td>\n",
       "            <td>安斎 遥</td>\n",
       "            <td>1</td>\n",
       "            <td>女性</td>\n",
       "            <td>1962-07-11</td>\n",
       "            <td>56</td>\n",
       "            <td>241-0823</td>\n",
       "            <td>神奈川県横浜市旭区善部町**********</td>\n",
       "            <td>S14033</td>\n",
       "            <td>20150728</td>\n",
       "            <td>6-20080506-5</td>\n",
       "        </tr>\n",
       "        <tr>\n",
       "            <td>CS011215000048</td>\n",
       "            <td>芦田 沙耶</td>\n",
       "            <td>1</td>\n",
       "            <td>女性</td>\n",
       "            <td>1992-02-01</td>\n",
       "            <td>27</td>\n",
       "            <td>223-0062</td>\n",
       "            <td>神奈川県横浜市港北区日吉本町**********</td>\n",
       "            <td>S14011</td>\n",
       "            <td>20150228</td>\n",
       "            <td>C-20100421-9</td>\n",
       "        </tr>\n",
       "        <tr>\n",
       "            <td>CS040412000191</td>\n",
       "            <td>川井 郁恵</td>\n",
       "            <td>1</td>\n",
       "            <td>女性</td>\n",
       "            <td>1977-01-05</td>\n",
       "            <td>42</td>\n",
       "            <td>226-0021</td>\n",
       "            <td>神奈川県横浜市緑区北八朔町**********</td>\n",
       "            <td>S14040</td>\n",
       "            <td>20151101</td>\n",
       "            <td>1-20091025-4</td>\n",
       "        </tr>\n",
       "        <tr>\n",
       "            <td>CS009315000023</td>\n",
       "            <td>皆川 文世</td>\n",
       "            <td>1</td>\n",
       "            <td>女性</td>\n",
       "            <td>1980-04-15</td>\n",
       "            <td>38</td>\n",
       "            <td>154-0012</td>\n",
       "            <td>東京都世田谷区駒沢**********</td>\n",
       "            <td>S13009</td>\n",
       "            <td>20150319</td>\n",
       "            <td>5-20080322-1</td>\n",
       "        </tr>\n",
       "    </tbody>\n",
       "</table>"
      ],
      "text/plain": [
       "[('CS001215000145', '田崎 美紀', '1', '女性', datetime.date(1995, 3, 29), 24, '144-0055', '東京都大田区仲六郷**********', 'S13001', '20170605', '6-20090929-2'),\n",
       " ('CS033513000180', '安斎 遥', '1', '女性', datetime.date(1962, 7, 11), 56, '241-0823', '神奈川県横浜市旭区善部町**********', 'S14033', '20150728', '6-20080506-5'),\n",
       " ('CS011215000048', '芦田 沙耶', '1', '女性', datetime.date(1992, 2, 1), 27, '223-0062', '神奈川県横浜市港北区日吉本町**********', 'S14011', '20150228', 'C-20100421-9'),\n",
       " ('CS040412000191', '川井 郁恵', '1', '女性', datetime.date(1977, 1, 5), 42, '226-0021', '神奈川県横浜市緑区北八朔町**********', 'S14040', '20151101', '1-20091025-4'),\n",
       " ('CS009315000023', '皆川 文世', '1', '女性', datetime.date(1980, 4, 15), 38, '154-0012', '東京都世田谷区駒沢**********', 'S13009', '20150319', '5-20080322-1')]"
      ]
     },
     "execution_count": 39,
     "metadata": {},
     "output_type": "execute_result"
    }
   ],
   "source": [
    "%%sql\n",
    "\n",
    "select *\n",
    "from customer \n",
    "where status_cd ~ '[1-9]$'\n",
    "limit 5"
   ]
  },
  {
   "cell_type": "markdown",
   "metadata": {},
   "source": [
    "---\n",
    "> S-015: 顧客テーブル（customer）から、ステータスコード（status_cd）の先頭がアルファベットのA〜Fで始まり、末尾が数字の1〜9で終わるデータを全項目抽出し、10件だけ表示せよ。"
   ]
  },
  {
   "cell_type": "code",
   "execution_count": 40,
   "metadata": {},
   "outputs": [
    {
     "name": "stdout",
     "output_type": "stream",
     "text": [
      " * postgresql://padawan:***@db:5432/dsdojo_db\n",
      "5 rows affected.\n"
     ]
    },
    {
     "data": {
      "text/html": [
       "<table>\n",
       "    <thead>\n",
       "        <tr>\n",
       "            <th>customer_id</th>\n",
       "            <th>customer_name</th>\n",
       "            <th>gender_cd</th>\n",
       "            <th>gender</th>\n",
       "            <th>birth_day</th>\n",
       "            <th>age</th>\n",
       "            <th>postal_cd</th>\n",
       "            <th>address</th>\n",
       "            <th>application_store_cd</th>\n",
       "            <th>application_date</th>\n",
       "            <th>status_cd</th>\n",
       "        </tr>\n",
       "    </thead>\n",
       "    <tbody>\n",
       "        <tr>\n",
       "            <td>CS011215000048</td>\n",
       "            <td>芦田 沙耶</td>\n",
       "            <td>1</td>\n",
       "            <td>女性</td>\n",
       "            <td>1992-02-01</td>\n",
       "            <td>27</td>\n",
       "            <td>223-0062</td>\n",
       "            <td>神奈川県横浜市港北区日吉本町**********</td>\n",
       "            <td>S14011</td>\n",
       "            <td>20150228</td>\n",
       "            <td>C-20100421-9</td>\n",
       "        </tr>\n",
       "        <tr>\n",
       "            <td>CS022513000105</td>\n",
       "            <td>島村 貴美子</td>\n",
       "            <td>1</td>\n",
       "            <td>女性</td>\n",
       "            <td>1962-03-12</td>\n",
       "            <td>57</td>\n",
       "            <td>249-0002</td>\n",
       "            <td>神奈川県逗子市山の根**********</td>\n",
       "            <td>S14022</td>\n",
       "            <td>20150320</td>\n",
       "            <td>A-20091115-7</td>\n",
       "        </tr>\n",
       "        <tr>\n",
       "            <td>CS001515000096</td>\n",
       "            <td>水野 陽子</td>\n",
       "            <td>9</td>\n",
       "            <td>不明</td>\n",
       "            <td>1960-11-29</td>\n",
       "            <td>58</td>\n",
       "            <td>144-0053</td>\n",
       "            <td>東京都大田区蒲田本町**********</td>\n",
       "            <td>S13001</td>\n",
       "            <td>20150614</td>\n",
       "            <td>A-20100724-7</td>\n",
       "        </tr>\n",
       "        <tr>\n",
       "            <td>CS013615000053</td>\n",
       "            <td>西脇 季衣</td>\n",
       "            <td>1</td>\n",
       "            <td>女性</td>\n",
       "            <td>1953-10-18</td>\n",
       "            <td>65</td>\n",
       "            <td>261-0026</td>\n",
       "            <td>千葉県千葉市美浜区幕張西**********</td>\n",
       "            <td>S12013</td>\n",
       "            <td>20150128</td>\n",
       "            <td>B-20100329-6</td>\n",
       "        </tr>\n",
       "        <tr>\n",
       "            <td>CS020412000161</td>\n",
       "            <td>小宮 薫</td>\n",
       "            <td>1</td>\n",
       "            <td>女性</td>\n",
       "            <td>1974-05-21</td>\n",
       "            <td>44</td>\n",
       "            <td>174-0042</td>\n",
       "            <td>東京都板橋区東坂下**********</td>\n",
       "            <td>S13020</td>\n",
       "            <td>20150822</td>\n",
       "            <td>B-20081021-3</td>\n",
       "        </tr>\n",
       "    </tbody>\n",
       "</table>"
      ],
      "text/plain": [
       "[('CS011215000048', '芦田 沙耶', '1', '女性', datetime.date(1992, 2, 1), 27, '223-0062', '神奈川県横浜市港北区日吉本町**********', 'S14011', '20150228', 'C-20100421-9'),\n",
       " ('CS022513000105', '島村 貴美子', '1', '女性', datetime.date(1962, 3, 12), 57, '249-0002', '神奈川県逗子市山の根**********', 'S14022', '20150320', 'A-20091115-7'),\n",
       " ('CS001515000096', '水野 陽子', '9', '不明', datetime.date(1960, 11, 29), 58, '144-0053', '東京都大田区蒲田本町**********', 'S13001', '20150614', 'A-20100724-7'),\n",
       " ('CS013615000053', '西脇 季衣', '1', '女性', datetime.date(1953, 10, 18), 65, '261-0026', '千葉県千葉市美浜区幕張西**********', 'S12013', '20150128', 'B-20100329-6'),\n",
       " ('CS020412000161', '小宮 薫', '1', '女性', datetime.date(1974, 5, 21), 44, '174-0042', '東京都板橋区東坂下**********', 'S13020', '20150822', 'B-20081021-3')]"
      ]
     },
     "execution_count": 40,
     "metadata": {},
     "output_type": "execute_result"
    }
   ],
   "source": [
    "%%sql\n",
    "\n",
    "select *\n",
    "from customer \n",
    "where status_cd ~ '^[A-F].*[1-9]$'\n",
    "limit 5"
   ]
  },
  {
   "cell_type": "markdown",
   "metadata": {},
   "source": [
    "---\n",
    "> S-016: 店舗テーブル（store）から、電話番号（tel_no）が3桁-3桁-4桁のデータを全項目表示せよ。"
   ]
  },
  {
   "cell_type": "code",
   "execution_count": 41,
   "metadata": {},
   "outputs": [
    {
     "name": "stdout",
     "output_type": "stream",
     "text": [
      " * postgresql://padawan:***@db:5432/dsdojo_db\n",
      "5 rows affected.\n"
     ]
    },
    {
     "data": {
      "text/html": [
       "<table>\n",
       "    <thead>\n",
       "        <tr>\n",
       "            <th>store_cd</th>\n",
       "            <th>store_name</th>\n",
       "            <th>prefecture_cd</th>\n",
       "            <th>prefecture</th>\n",
       "            <th>address</th>\n",
       "            <th>address_kana</th>\n",
       "            <th>tel_no</th>\n",
       "            <th>longitude</th>\n",
       "            <th>latitude</th>\n",
       "            <th>floor_area</th>\n",
       "        </tr>\n",
       "    </thead>\n",
       "    <tbody>\n",
       "        <tr>\n",
       "            <td>S12014</td>\n",
       "            <td>千草台店</td>\n",
       "            <td>12</td>\n",
       "            <td>千葉県</td>\n",
       "            <td>千葉県千葉市稲毛区千草台一丁目</td>\n",
       "            <td>チバケンチバシイナゲクチグサダイイッチョウメ</td>\n",
       "            <td>043-123-4003</td>\n",
       "            <td>140.118</td>\n",
       "            <td>35.63559</td>\n",
       "            <td>1698.0</td>\n",
       "        </tr>\n",
       "        <tr>\n",
       "            <td>S13002</td>\n",
       "            <td>国分寺店</td>\n",
       "            <td>13</td>\n",
       "            <td>東京都</td>\n",
       "            <td>東京都国分寺市本多二丁目</td>\n",
       "            <td>トウキョウトコクブンジシホンダニチョウメ</td>\n",
       "            <td>042-123-4008</td>\n",
       "            <td>139.4802</td>\n",
       "            <td>35.70566</td>\n",
       "            <td>1735.0</td>\n",
       "        </tr>\n",
       "        <tr>\n",
       "            <td>S14010</td>\n",
       "            <td>菊名店</td>\n",
       "            <td>14</td>\n",
       "            <td>神奈川県</td>\n",
       "            <td>神奈川県横浜市港北区菊名一丁目</td>\n",
       "            <td>カナガワケンヨコハマシコウホククキクナイッチョウメ</td>\n",
       "            <td>045-123-4032</td>\n",
       "            <td>139.6326</td>\n",
       "            <td>35.50049</td>\n",
       "            <td>1732.0</td>\n",
       "        </tr>\n",
       "        <tr>\n",
       "            <td>S14033</td>\n",
       "            <td>阿久和店</td>\n",
       "            <td>14</td>\n",
       "            <td>神奈川県</td>\n",
       "            <td>神奈川県横浜市瀬谷区阿久和西一丁目</td>\n",
       "            <td>カナガワケンヨコハマシセヤクアクワニシイッチョウメ</td>\n",
       "            <td>045-123-4043</td>\n",
       "            <td>139.4961</td>\n",
       "            <td>35.45918</td>\n",
       "            <td>1495.0</td>\n",
       "        </tr>\n",
       "        <tr>\n",
       "            <td>S14036</td>\n",
       "            <td>相模原中央店</td>\n",
       "            <td>14</td>\n",
       "            <td>神奈川県</td>\n",
       "            <td>神奈川県相模原市中央二丁目</td>\n",
       "            <td>カナガワケンサガミハラシチュウオウニチョウメ</td>\n",
       "            <td>042-123-4045</td>\n",
       "            <td>139.3716</td>\n",
       "            <td>35.57327</td>\n",
       "            <td>1679.0</td>\n",
       "        </tr>\n",
       "    </tbody>\n",
       "</table>"
      ],
      "text/plain": [
       "[('S12014', '千草台店', '12', '千葉県', '千葉県千葉市稲毛区千草台一丁目', 'チバケンチバシイナゲクチグサダイイッチョウメ', '043-123-4003', Decimal('140.118'), Decimal('35.63559'), Decimal('1698.0')),\n",
       " ('S13002', '国分寺店', '13', '東京都', '東京都国分寺市本多二丁目', 'トウキョウトコクブンジシホンダニチョウメ', '042-123-4008', Decimal('139.4802'), Decimal('35.70566'), Decimal('1735.0')),\n",
       " ('S14010', '菊名店', '14', '神奈川県', '神奈川県横浜市港北区菊名一丁目', 'カナガワケンヨコハマシコウホククキクナイッチョウメ', '045-123-4032', Decimal('139.6326'), Decimal('35.50049'), Decimal('1732.0')),\n",
       " ('S14033', '阿久和店', '14', '神奈川県', '神奈川県横浜市瀬谷区阿久和西一丁目', 'カナガワケンヨコハマシセヤクアクワニシイッチョウメ', '045-123-4043', Decimal('139.4961'), Decimal('35.45918'), Decimal('1495.0')),\n",
       " ('S14036', '相模原中央店', '14', '神奈川県', '神奈川県相模原市中央二丁目', 'カナガワケンサガミハラシチュウオウニチョウメ', '042-123-4045', Decimal('139.3716'), Decimal('35.57327'), Decimal('1679.0'))]"
      ]
     },
     "execution_count": 41,
     "metadata": {},
     "output_type": "execute_result"
    }
   ],
   "source": [
    "%%sql\n",
    "\n",
    "select *\n",
    "from store \n",
    "where tel_no ~ '^[0-9]{3}-[0-9]{3}-[0-9]{4}'\n",
    "limit 5"
   ]
  },
  {
   "cell_type": "markdown",
   "metadata": {},
   "source": [
    "---\n",
    "> S-017: 顧客テーブル（customer）を生年月日（birth_day）で高齢順にソートし、先頭10件を全項目表示せよ。"
   ]
  },
  {
   "cell_type": "code",
   "execution_count": 44,
   "metadata": {},
   "outputs": [
    {
     "name": "stdout",
     "output_type": "stream",
     "text": [
      " * postgresql://padawan:***@db:5432/dsdojo_db\n",
      "5 rows affected.\n"
     ]
    },
    {
     "data": {
      "text/html": [
       "<table>\n",
       "    <thead>\n",
       "        <tr>\n",
       "            <th>customer_id</th>\n",
       "            <th>customer_name</th>\n",
       "            <th>gender_cd</th>\n",
       "            <th>gender</th>\n",
       "            <th>birth_day</th>\n",
       "            <th>age</th>\n",
       "            <th>postal_cd</th>\n",
       "            <th>address</th>\n",
       "            <th>application_store_cd</th>\n",
       "            <th>application_date</th>\n",
       "            <th>status_cd</th>\n",
       "        </tr>\n",
       "    </thead>\n",
       "    <tbody>\n",
       "        <tr>\n",
       "            <td>CS003813000014</td>\n",
       "            <td>村山 菜々美</td>\n",
       "            <td>1</td>\n",
       "            <td>女性</td>\n",
       "            <td>1928-11-26</td>\n",
       "            <td>90</td>\n",
       "            <td>182-0007</td>\n",
       "            <td>東京都調布市菊野台**********</td>\n",
       "            <td>S13003</td>\n",
       "            <td>20160214</td>\n",
       "            <td>0-00000000-0</td>\n",
       "        </tr>\n",
       "        <tr>\n",
       "            <td>CS026813000004</td>\n",
       "            <td>吉村 朝陽</td>\n",
       "            <td>1</td>\n",
       "            <td>女性</td>\n",
       "            <td>1928-12-14</td>\n",
       "            <td>90</td>\n",
       "            <td>251-0043</td>\n",
       "            <td>神奈川県藤沢市辻堂元町**********</td>\n",
       "            <td>S14026</td>\n",
       "            <td>20150723</td>\n",
       "            <td>0-00000000-0</td>\n",
       "        </tr>\n",
       "        <tr>\n",
       "            <td>CS018811000003</td>\n",
       "            <td>熊沢 美里</td>\n",
       "            <td>1</td>\n",
       "            <td>女性</td>\n",
       "            <td>1929-01-07</td>\n",
       "            <td>90</td>\n",
       "            <td>204-0004</td>\n",
       "            <td>東京都清瀬市野塩**********</td>\n",
       "            <td>S13018</td>\n",
       "            <td>20150403</td>\n",
       "            <td>0-00000000-0</td>\n",
       "        </tr>\n",
       "        <tr>\n",
       "            <td>CS027803000004</td>\n",
       "            <td>内村 拓郎</td>\n",
       "            <td>0</td>\n",
       "            <td>男性</td>\n",
       "            <td>1929-01-12</td>\n",
       "            <td>90</td>\n",
       "            <td>251-0031</td>\n",
       "            <td>神奈川県藤沢市鵠沼藤が谷**********</td>\n",
       "            <td>S14027</td>\n",
       "            <td>20151227</td>\n",
       "            <td>0-00000000-0</td>\n",
       "        </tr>\n",
       "        <tr>\n",
       "            <td>CS013801000003</td>\n",
       "            <td>天野 拓郎</td>\n",
       "            <td>0</td>\n",
       "            <td>男性</td>\n",
       "            <td>1929-01-15</td>\n",
       "            <td>90</td>\n",
       "            <td>274-0824</td>\n",
       "            <td>千葉県船橋市前原東**********</td>\n",
       "            <td>S12013</td>\n",
       "            <td>20160120</td>\n",
       "            <td>0-00000000-0</td>\n",
       "        </tr>\n",
       "    </tbody>\n",
       "</table>"
      ],
      "text/plain": [
       "[('CS003813000014', '村山 菜々美', '1', '女性', datetime.date(1928, 11, 26), 90, '182-0007', '東京都調布市菊野台**********', 'S13003', '20160214', '0-00000000-0'),\n",
       " ('CS026813000004', '吉村 朝陽', '1', '女性', datetime.date(1928, 12, 14), 90, '251-0043', '神奈川県藤沢市辻堂元町**********', 'S14026', '20150723', '0-00000000-0'),\n",
       " ('CS018811000003', '熊沢 美里', '1', '女性', datetime.date(1929, 1, 7), 90, '204-0004', '東京都清瀬市野塩**********', 'S13018', '20150403', '0-00000000-0'),\n",
       " ('CS027803000004', '内村 拓郎', '0', '男性', datetime.date(1929, 1, 12), 90, '251-0031', '神奈川県藤沢市鵠沼藤が谷**********', 'S14027', '20151227', '0-00000000-0'),\n",
       " ('CS013801000003', '天野 拓郎', '0', '男性', datetime.date(1929, 1, 15), 90, '274-0824', '千葉県船橋市前原東**********', 'S12013', '20160120', '0-00000000-0')]"
      ]
     },
     "execution_count": 44,
     "metadata": {},
     "output_type": "execute_result"
    }
   ],
   "source": [
    "%%sql\n",
    "\n",
    "select *\n",
    "from customer\n",
    "order by birth_day\n",
    "limit 5"
   ]
  },
  {
   "cell_type": "markdown",
   "metadata": {},
   "source": [
    "---\n",
    "> S-018: 顧客テーブル（customer）を生年月日（birth_day）で若い順にソートし、先頭10件を全項目表示せよ。"
   ]
  },
  {
   "cell_type": "code",
   "execution_count": 46,
   "metadata": {},
   "outputs": [
    {
     "name": "stdout",
     "output_type": "stream",
     "text": [
      " * postgresql://padawan:***@db:5432/dsdojo_db\n",
      "5 rows affected.\n"
     ]
    },
    {
     "data": {
      "text/html": [
       "<table>\n",
       "    <thead>\n",
       "        <tr>\n",
       "            <th>customer_id</th>\n",
       "            <th>customer_name</th>\n",
       "            <th>gender_cd</th>\n",
       "            <th>gender</th>\n",
       "            <th>birth_day</th>\n",
       "            <th>age</th>\n",
       "            <th>postal_cd</th>\n",
       "            <th>address</th>\n",
       "            <th>application_store_cd</th>\n",
       "            <th>application_date</th>\n",
       "            <th>status_cd</th>\n",
       "        </tr>\n",
       "    </thead>\n",
       "    <tbody>\n",
       "        <tr>\n",
       "            <td>CS035114000004</td>\n",
       "            <td>大村 美里</td>\n",
       "            <td>1</td>\n",
       "            <td>女性</td>\n",
       "            <td>2007-11-25</td>\n",
       "            <td>11</td>\n",
       "            <td>156-0053</td>\n",
       "            <td>東京都世田谷区桜**********</td>\n",
       "            <td>S13035</td>\n",
       "            <td>20150619</td>\n",
       "            <td>6-20091205-6</td>\n",
       "        </tr>\n",
       "        <tr>\n",
       "            <td>CS022103000002</td>\n",
       "            <td>福山 はじめ</td>\n",
       "            <td>9</td>\n",
       "            <td>不明</td>\n",
       "            <td>2007-10-02</td>\n",
       "            <td>11</td>\n",
       "            <td>249-0006</td>\n",
       "            <td>神奈川県逗子市逗子**********</td>\n",
       "            <td>S14022</td>\n",
       "            <td>20160909</td>\n",
       "            <td>0-00000000-0</td>\n",
       "        </tr>\n",
       "        <tr>\n",
       "            <td>CS002113000009</td>\n",
       "            <td>柴田 真悠子</td>\n",
       "            <td>1</td>\n",
       "            <td>女性</td>\n",
       "            <td>2007-09-17</td>\n",
       "            <td>11</td>\n",
       "            <td>184-0014</td>\n",
       "            <td>東京都小金井市貫井南町**********</td>\n",
       "            <td>S13002</td>\n",
       "            <td>20160304</td>\n",
       "            <td>0-00000000-0</td>\n",
       "        </tr>\n",
       "        <tr>\n",
       "            <td>CS004115000014</td>\n",
       "            <td>松井 京子</td>\n",
       "            <td>1</td>\n",
       "            <td>女性</td>\n",
       "            <td>2007-08-09</td>\n",
       "            <td>11</td>\n",
       "            <td>165-0031</td>\n",
       "            <td>東京都中野区上鷺宮**********</td>\n",
       "            <td>S13004</td>\n",
       "            <td>20161120</td>\n",
       "            <td>1-20081231-1</td>\n",
       "        </tr>\n",
       "        <tr>\n",
       "            <td>CS002114000010</td>\n",
       "            <td>山内 遥</td>\n",
       "            <td>1</td>\n",
       "            <td>女性</td>\n",
       "            <td>2007-06-03</td>\n",
       "            <td>11</td>\n",
       "            <td>184-0015</td>\n",
       "            <td>東京都小金井市貫井北町**********</td>\n",
       "            <td>S13002</td>\n",
       "            <td>20160920</td>\n",
       "            <td>6-20100510-1</td>\n",
       "        </tr>\n",
       "    </tbody>\n",
       "</table>"
      ],
      "text/plain": [
       "[('CS035114000004', '大村 美里', '1', '女性', datetime.date(2007, 11, 25), 11, '156-0053', '東京都世田谷区桜**********', 'S13035', '20150619', '6-20091205-6'),\n",
       " ('CS022103000002', '福山 はじめ', '9', '不明', datetime.date(2007, 10, 2), 11, '249-0006', '神奈川県逗子市逗子**********', 'S14022', '20160909', '0-00000000-0'),\n",
       " ('CS002113000009', '柴田 真悠子', '1', '女性', datetime.date(2007, 9, 17), 11, '184-0014', '東京都小金井市貫井南町**********', 'S13002', '20160304', '0-00000000-0'),\n",
       " ('CS004115000014', '松井 京子', '1', '女性', datetime.date(2007, 8, 9), 11, '165-0031', '東京都中野区上鷺宮**********', 'S13004', '20161120', '1-20081231-1'),\n",
       " ('CS002114000010', '山内 遥', '1', '女性', datetime.date(2007, 6, 3), 11, '184-0015', '東京都小金井市貫井北町**********', 'S13002', '20160920', '6-20100510-1')]"
      ]
     },
     "execution_count": 46,
     "metadata": {},
     "output_type": "execute_result"
    }
   ],
   "source": [
    "%%sql\n",
    "select *\n",
    "from customer\n",
    "order by birth_day desc\n",
    "limit 5"
   ]
  },
  {
   "cell_type": "markdown",
   "metadata": {},
   "source": [
    "---\n",
    "> S-019: レシート明細テーブル（receipt）に対し、1件あたりの売上金額（amount）が高い順にランクを付与し、先頭10件を抽出せよ。項目は顧客ID（customer_id）、売上金額（amount）、付与したランクを表示させること。なお、売上金額（amount）が等しい場合は同一順位を付与するものとする。"
   ]
  },
  {
   "cell_type": "code",
   "execution_count": 51,
   "metadata": {},
   "outputs": [
    {
     "name": "stdout",
     "output_type": "stream",
     "text": [
      " * postgresql://padawan:***@db:5432/dsdojo_db\n",
      "10 rows affected.\n"
     ]
    },
    {
     "data": {
      "text/html": [
       "<table>\n",
       "    <thead>\n",
       "        <tr>\n",
       "            <th>customer_id</th>\n",
       "            <th>amount</th>\n",
       "            <th>ranking</th>\n",
       "        </tr>\n",
       "    </thead>\n",
       "    <tbody>\n",
       "        <tr>\n",
       "            <td>CS011415000006</td>\n",
       "            <td>10925</td>\n",
       "            <td>1</td>\n",
       "        </tr>\n",
       "        <tr>\n",
       "            <td>ZZ000000000000</td>\n",
       "            <td>6800</td>\n",
       "            <td>2</td>\n",
       "        </tr>\n",
       "        <tr>\n",
       "            <td>CS028605000002</td>\n",
       "            <td>5780</td>\n",
       "            <td>3</td>\n",
       "        </tr>\n",
       "        <tr>\n",
       "            <td>ZZ000000000000</td>\n",
       "            <td>5480</td>\n",
       "            <td>4</td>\n",
       "        </tr>\n",
       "        <tr>\n",
       "            <td>CS015515000034</td>\n",
       "            <td>5480</td>\n",
       "            <td>4</td>\n",
       "        </tr>\n",
       "        <tr>\n",
       "            <td>ZZ000000000000</td>\n",
       "            <td>5480</td>\n",
       "            <td>4</td>\n",
       "        </tr>\n",
       "        <tr>\n",
       "            <td>ZZ000000000000</td>\n",
       "            <td>5440</td>\n",
       "            <td>7</td>\n",
       "        </tr>\n",
       "        <tr>\n",
       "            <td>CS021515000089</td>\n",
       "            <td>5440</td>\n",
       "            <td>7</td>\n",
       "        </tr>\n",
       "        <tr>\n",
       "            <td>ZZ000000000000</td>\n",
       "            <td>5280</td>\n",
       "            <td>9</td>\n",
       "        </tr>\n",
       "        <tr>\n",
       "            <td>CS009415000038</td>\n",
       "            <td>5280</td>\n",
       "            <td>9</td>\n",
       "        </tr>\n",
       "    </tbody>\n",
       "</table>"
      ],
      "text/plain": [
       "[('CS011415000006', 10925, 1),\n",
       " ('ZZ000000000000', 6800, 2),\n",
       " ('CS028605000002', 5780, 3),\n",
       " ('ZZ000000000000', 5480, 4),\n",
       " ('CS015515000034', 5480, 4),\n",
       " ('ZZ000000000000', 5480, 4),\n",
       " ('ZZ000000000000', 5440, 7),\n",
       " ('CS021515000089', 5440, 7),\n",
       " ('ZZ000000000000', 5280, 9),\n",
       " ('CS009415000038', 5280, 9)]"
      ]
     },
     "execution_count": 51,
     "metadata": {},
     "output_type": "execute_result"
    }
   ],
   "source": [
    "%%sql\n",
    "\n",
    "select customer_id, amount, \n",
    "rank() over(order by amount desc) as ranking\n",
    "from receipt\n",
    "limit 10"
   ]
  },
  {
   "cell_type": "markdown",
   "metadata": {},
   "source": [
    "---\n",
    ">  S-020: レシート明細テーブル（receipt）に対し、1件あたりの売上金額（amount）が高い順にランクを付与し、先頭10件を抽出せよ。項目は顧客ID（customer_id）、売上金額（amount）、付与したランクを表示させること。なお、売上金額（amount）が等しい場合でも別順位を付与すること。"
   ]
  },
  {
   "cell_type": "code",
   "execution_count": 53,
   "metadata": {},
   "outputs": [
    {
     "name": "stdout",
     "output_type": "stream",
     "text": [
      " * postgresql://padawan:***@db:5432/dsdojo_db\n",
      "10 rows affected.\n"
     ]
    },
    {
     "data": {
      "text/html": [
       "<table>\n",
       "    <thead>\n",
       "        <tr>\n",
       "            <th>customer_id</th>\n",
       "            <th>amount</th>\n",
       "            <th>ranking</th>\n",
       "        </tr>\n",
       "    </thead>\n",
       "    <tbody>\n",
       "        <tr>\n",
       "            <td>CS011415000006</td>\n",
       "            <td>10925</td>\n",
       "            <td>1</td>\n",
       "        </tr>\n",
       "        <tr>\n",
       "            <td>ZZ000000000000</td>\n",
       "            <td>6800</td>\n",
       "            <td>2</td>\n",
       "        </tr>\n",
       "        <tr>\n",
       "            <td>CS028605000002</td>\n",
       "            <td>5780</td>\n",
       "            <td>3</td>\n",
       "        </tr>\n",
       "        <tr>\n",
       "            <td>ZZ000000000000</td>\n",
       "            <td>5480</td>\n",
       "            <td>4</td>\n",
       "        </tr>\n",
       "        <tr>\n",
       "            <td>CS015515000034</td>\n",
       "            <td>5480</td>\n",
       "            <td>5</td>\n",
       "        </tr>\n",
       "        <tr>\n",
       "            <td>ZZ000000000000</td>\n",
       "            <td>5480</td>\n",
       "            <td>6</td>\n",
       "        </tr>\n",
       "        <tr>\n",
       "            <td>ZZ000000000000</td>\n",
       "            <td>5440</td>\n",
       "            <td>7</td>\n",
       "        </tr>\n",
       "        <tr>\n",
       "            <td>CS021515000089</td>\n",
       "            <td>5440</td>\n",
       "            <td>8</td>\n",
       "        </tr>\n",
       "        <tr>\n",
       "            <td>ZZ000000000000</td>\n",
       "            <td>5280</td>\n",
       "            <td>9</td>\n",
       "        </tr>\n",
       "        <tr>\n",
       "            <td>CS009415000038</td>\n",
       "            <td>5280</td>\n",
       "            <td>10</td>\n",
       "        </tr>\n",
       "    </tbody>\n",
       "</table>"
      ],
      "text/plain": [
       "[('CS011415000006', 10925, 1),\n",
       " ('ZZ000000000000', 6800, 2),\n",
       " ('CS028605000002', 5780, 3),\n",
       " ('ZZ000000000000', 5480, 4),\n",
       " ('CS015515000034', 5480, 5),\n",
       " ('ZZ000000000000', 5480, 6),\n",
       " ('ZZ000000000000', 5440, 7),\n",
       " ('CS021515000089', 5440, 8),\n",
       " ('ZZ000000000000', 5280, 9),\n",
       " ('CS009415000038', 5280, 10)]"
      ]
     },
     "execution_count": 53,
     "metadata": {},
     "output_type": "execute_result"
    }
   ],
   "source": [
    "%%sql\n",
    "\n",
    "select customer_id, amount, \n",
    "row_number() over(order by amount desc) as ranking\n",
    "from receipt\n",
    "limit 10"
   ]
  },
  {
   "cell_type": "markdown",
   "metadata": {},
   "source": [
    "---\n",
    "> S-021: レシート明細テーブル（receipt）に対し、件数をカウントせよ。"
   ]
  },
  {
   "cell_type": "code",
   "execution_count": 54,
   "metadata": {},
   "outputs": [
    {
     "name": "stdout",
     "output_type": "stream",
     "text": [
      " * postgresql://padawan:***@db:5432/dsdojo_db\n",
      "1 rows affected.\n"
     ]
    },
    {
     "data": {
      "text/html": [
       "<table>\n",
       "    <thead>\n",
       "        <tr>\n",
       "            <th>count</th>\n",
       "        </tr>\n",
       "    </thead>\n",
       "    <tbody>\n",
       "        <tr>\n",
       "            <td>104681</td>\n",
       "        </tr>\n",
       "    </tbody>\n",
       "</table>"
      ],
      "text/plain": [
       "[(104681,)]"
      ]
     },
     "execution_count": 54,
     "metadata": {},
     "output_type": "execute_result"
    }
   ],
   "source": [
    "%%sql\n",
    "\n",
    "select count(*)\n",
    "from receipt"
   ]
  },
  {
   "cell_type": "markdown",
   "metadata": {},
   "source": [
    "---\n",
    "> S-022: レシート明細テーブル（receipt）の顧客ID（customer_id）に対し、ユニーク件数をカウントせよ。"
   ]
  },
  {
   "cell_type": "code",
   "execution_count": 59,
   "metadata": {},
   "outputs": [
    {
     "name": "stdout",
     "output_type": "stream",
     "text": [
      " * postgresql://padawan:***@db:5432/dsdojo_db\n",
      "1 rows affected.\n"
     ]
    },
    {
     "data": {
      "text/html": [
       "<table>\n",
       "    <thead>\n",
       "        <tr>\n",
       "            <th>count</th>\n",
       "        </tr>\n",
       "    </thead>\n",
       "    <tbody>\n",
       "        <tr>\n",
       "            <td>8307</td>\n",
       "        </tr>\n",
       "    </tbody>\n",
       "</table>"
      ],
      "text/plain": [
       "[(8307,)]"
      ]
     },
     "execution_count": 59,
     "metadata": {},
     "output_type": "execute_result"
    }
   ],
   "source": [
    "%%sql\n",
    "\n",
    "select count(distinct customer_id)\n",
    "from receipt"
   ]
  },
  {
   "cell_type": "markdown",
   "metadata": {},
   "source": [
    "---\n",
    "> S-023: レシート明細テーブル（receipt）に対し、店舗コード（store_cd）ごとに売上金額（amount）と売上数量（quantity）を合計せよ。"
   ]
  },
  {
   "cell_type": "code",
   "execution_count": null,
   "metadata": {},
   "outputs": [],
   "source": [
    "%%sql\n"
   ]
  },
  {
   "cell_type": "markdown",
   "metadata": {},
   "source": [
    "---\n",
    "> S-024: レシート明細テーブル（receipt）に対し、顧客ID（customer_id）ごとに最も新しい売上日（sales_ymd）を求め、10件表示せよ。"
   ]
  },
  {
   "cell_type": "code",
   "execution_count": null,
   "metadata": {},
   "outputs": [],
   "source": [
    "%%sql\n"
   ]
  },
  {
   "cell_type": "markdown",
   "metadata": {},
   "source": [
    "---\n",
    "> S-025: レシート明細テーブル（receipt）に対し、顧客ID（customer_id）ごとに最も古い売上日（sales_ymd）を求め、10件表示せよ。"
   ]
  },
  {
   "cell_type": "code",
   "execution_count": null,
   "metadata": {},
   "outputs": [],
   "source": [
    "%%sql\n"
   ]
  },
  {
   "cell_type": "markdown",
   "metadata": {},
   "source": [
    "---\n",
    "> S-026: レシート明細テーブル（receipt）に対し、顧客ID（customer_id）ごとに最も新しい売上日（sales_ymd）と古い売上日を求め、両者が異なるデータを10件表示せよ。"
   ]
  },
  {
   "cell_type": "code",
   "execution_count": null,
   "metadata": {},
   "outputs": [],
   "source": [
    "%%sql\n"
   ]
  },
  {
   "cell_type": "markdown",
   "metadata": {},
   "source": [
    "---\n",
    "> S-027: レシート明細テーブル（receipt）に対し、店舗コード（store_cd）ごとに売上金額（amount）の平均を計算し、降順でTOP5を表示せよ。"
   ]
  },
  {
   "cell_type": "code",
   "execution_count": null,
   "metadata": {},
   "outputs": [],
   "source": [
    "%%sql\n"
   ]
  },
  {
   "cell_type": "markdown",
   "metadata": {},
   "source": [
    "---\n",
    "> S-028: レシート明細テーブル（receipt）に対し、店舗コード（store_cd）ごとに売上金額（amount）の中央値を計算し、降順でTOP5を表示せよ。"
   ]
  },
  {
   "cell_type": "code",
   "execution_count": null,
   "metadata": {},
   "outputs": [],
   "source": [
    "%%sql\n"
   ]
  },
  {
   "cell_type": "markdown",
   "metadata": {},
   "source": [
    "---\n",
    "> S-029: レシート明細テーブル（receipt）に対し、店舗コード（store_cd）ごとに商品コードの最頻値を求めよ。"
   ]
  },
  {
   "cell_type": "code",
   "execution_count": null,
   "metadata": {},
   "outputs": [],
   "source": [
    "%%sql\n"
   ]
  },
  {
   "cell_type": "markdown",
   "metadata": {},
   "source": [
    "---\n",
    "> S-030: レシート明細テーブル（receipt）に対し、店舗コード（store_cd）ごとに売上金額（amount）の標本分散を計算し、降順にTOP5を表示せよ。"
   ]
  },
  {
   "cell_type": "code",
   "execution_count": null,
   "metadata": {},
   "outputs": [],
   "source": [
    "%%sql\n"
   ]
  },
  {
   "cell_type": "markdown",
   "metadata": {},
   "source": [
    "---\n",
    "> S-031: レシート明細テーブル（receipt）に対し、店舗コード（store_cd）ごとに売上金額（amount）の標本標準偏差を計算し、降順にTOP5を表示せよ。"
   ]
  },
  {
   "cell_type": "code",
   "execution_count": null,
   "metadata": {},
   "outputs": [],
   "source": [
    "%%sql\n"
   ]
  },
  {
   "cell_type": "markdown",
   "metadata": {},
   "source": [
    "---\n",
    "> S-032: レシート明細テーブル（receipt）に対し、売上金額（amount）について25％刻みでパーセンタイル値を求めよ。"
   ]
  },
  {
   "cell_type": "code",
   "execution_count": null,
   "metadata": {},
   "outputs": [],
   "source": [
    "%%sql\n"
   ]
  },
  {
   "cell_type": "markdown",
   "metadata": {},
   "source": [
    "---\n",
    "> S-033: レシート明細テーブル（receipt）に対し、店舗コード（store_cd）ごとに売上金額（amount）の平均を計算し、330以上のものを抽出せよ。"
   ]
  },
  {
   "cell_type": "code",
   "execution_count": null,
   "metadata": {},
   "outputs": [],
   "source": [
    "%%sql\n"
   ]
  },
  {
   "cell_type": "markdown",
   "metadata": {},
   "source": [
    "---\n",
    "> S-034: レシート明細テーブル（receipt）に対し、顧客ID（customer_id）ごとに売上金額（amount）を合計して全顧客の平均を求めよ。ただし、顧客IDが\"Z\"から始まるのものは非会員を表すため、除外して計算すること。"
   ]
  },
  {
   "cell_type": "code",
   "execution_count": null,
   "metadata": {},
   "outputs": [],
   "source": [
    "%%sql\n"
   ]
  },
  {
   "cell_type": "markdown",
   "metadata": {},
   "source": [
    "---\n",
    "> S-035: レシート明細テーブル（receipt）に対し、顧客ID（customer_id）ごとに販売金額（amount）を合計して全顧客の平均を求め、平均以上に買い物をしている顧客を抽出せよ。ただし、顧客IDが\"Z\"から始まるのものは非会員を表すため、除外して計算すること。なお、データは10件だけ表示させれば良い。"
   ]
  },
  {
   "cell_type": "code",
   "execution_count": null,
   "metadata": {},
   "outputs": [],
   "source": [
    "%%sql\n"
   ]
  },
  {
   "cell_type": "markdown",
   "metadata": {},
   "source": [
    "---\n",
    "> S-036: レシート明細テーブル（receipt）と店舗テーブル（store）を内部結合し、レシート明細テーブルの全項目と店舗テーブルの店舗名（store_name）を10件表示させよ。"
   ]
  },
  {
   "cell_type": "code",
   "execution_count": null,
   "metadata": {},
   "outputs": [],
   "source": [
    "%%sql\n"
   ]
  },
  {
   "cell_type": "markdown",
   "metadata": {},
   "source": [
    "---\n",
    "> S-037: 商品テーブル（product）とカテゴリテーブル（category）を内部結合し、商品テーブルの全項目とカテゴリテーブルの小区分名（category_small_name）を10件表示させよ。"
   ]
  },
  {
   "cell_type": "code",
   "execution_count": null,
   "metadata": {},
   "outputs": [],
   "source": [
    "%%sql\n"
   ]
  },
  {
   "cell_type": "markdown",
   "metadata": {},
   "source": [
    "---\n",
    "> S-038: 顧客テーブル（customer）とレシート明細テーブル（receipt）から、各顧客ごとの売上金額合計を求めよ。ただし、買い物の実績がない顧客については売上金額を0として表示させること。また、顧客は性別コード（gender_cd）が女性（1）であるものを対象とし、非会員（顧客IDが'Z'から始まるもの）は除外すること。なお、結果は10件だけ表示させれば良い。"
   ]
  },
  {
   "cell_type": "code",
   "execution_count": null,
   "metadata": {},
   "outputs": [],
   "source": [
    "%%sql\n"
   ]
  },
  {
   "cell_type": "markdown",
   "metadata": {},
   "source": [
    "---\n",
    "> S-039: レシート明細テーブル（receipt）から売上日数の多い顧客の上位20件と、売上金額合計の多い顧客の上位20件を抽出し、完全外部結合せよ。ただし、非会員（顧客IDが'Z'から始まるもの）は除外すること。"
   ]
  },
  {
   "cell_type": "code",
   "execution_count": null,
   "metadata": {},
   "outputs": [],
   "source": [
    "%%sql\n"
   ]
  },
  {
   "cell_type": "markdown",
   "metadata": {},
   "source": [
    "---\n",
    "> S-040: 全ての店舗と全ての商品を組み合わせると何件のデータとなるか調査したい。店舗（store）と商品（product）を直積した件数を計算せよ。"
   ]
  },
  {
   "cell_type": "code",
   "execution_count": null,
   "metadata": {},
   "outputs": [],
   "source": [
    "%%sql\n"
   ]
  },
  {
   "cell_type": "markdown",
   "metadata": {},
   "source": [
    "---\n",
    "> S-041: レシート明細テーブル（receipt）の売上金額（amount）を日付（sales_ymd）ごとに集計し、前日からの売上金額増減を計算せよ。なお、計算結果は10件表示すればよい。"
   ]
  },
  {
   "cell_type": "code",
   "execution_count": null,
   "metadata": {},
   "outputs": [],
   "source": [
    "%%sql\n"
   ]
  },
  {
   "cell_type": "markdown",
   "metadata": {},
   "source": [
    "---\n",
    "> S-042: レシート明細テーブル（receipt）の売上金額（amount）を日付（sales_ymd）ごとに集計し、各日付のデータに対し、１日前、２日前、３日前のデータを結合せよ。結果は10件表示すればよい。"
   ]
  },
  {
   "cell_type": "code",
   "execution_count": null,
   "metadata": {},
   "outputs": [],
   "source": [
    "%%sql\n"
   ]
  },
  {
   "cell_type": "markdown",
   "metadata": {},
   "source": [
    "---\n",
    "> S-043: レシート明細テーブル（receipt）と顧客テーブル（customer）を結合し、性別（gender）と年代（ageから計算）ごとに売上金額（amount）を合計した売上サマリテーブル（sales_summary）を作成せよ。性別は0が男性、1が女性、9が不明を表すものとする。\n",
    ">\n",
    ">ただし、項目構成は年代、女性の売上金額、男性の売上金額、性別不明の売上金額の4項目とすること（縦に年代、横に性別のクロス集計）。また、年代は10歳ごとの階級とすること。"
   ]
  },
  {
   "cell_type": "code",
   "execution_count": null,
   "metadata": {},
   "outputs": [],
   "source": [
    "%%sql\n"
   ]
  },
  {
   "cell_type": "markdown",
   "metadata": {},
   "source": [
    "---\n",
    "> S-044: 前設問で作成した売上サマリテーブル（sales_summary）は性別の売上を横持ちさせたものであった。このテーブルから性別を縦持ちさせ、年代、性別コード、売上金額の3項目に変換せよ。ただし、性別コードは男性を'00'、女性を'01'、不明を'99'とする。"
   ]
  },
  {
   "cell_type": "code",
   "execution_count": null,
   "metadata": {},
   "outputs": [],
   "source": [
    "%%sql\n"
   ]
  },
  {
   "cell_type": "markdown",
   "metadata": {},
   "source": [
    "---\n",
    "> S-045: 顧客テーブル（customer）の生年月日（birth_day）は日付型（Date）でデータを保有している。これをYYYYMMDD形式の文字列に変換し、顧客ID（customer_id）とともに抽出せよ。データは10件を抽出すれば良い。"
   ]
  },
  {
   "cell_type": "code",
   "execution_count": null,
   "metadata": {},
   "outputs": [],
   "source": [
    "%%sql\n"
   ]
  },
  {
   "cell_type": "markdown",
   "metadata": {},
   "source": [
    "---\n",
    "> S-046: 顧客テーブル（customer）の申し込み日（application_date）はYYYYMMDD形式の文字列型でデータを保有している。これを日付型（dateやdatetime）に変換し、顧客ID（customer_id）とともに抽出せよ。データは10件を抽出すれば良い。"
   ]
  },
  {
   "cell_type": "code",
   "execution_count": null,
   "metadata": {},
   "outputs": [],
   "source": [
    "%%sql\n"
   ]
  },
  {
   "cell_type": "markdown",
   "metadata": {},
   "source": [
    "---\n",
    "> S-047: レシート明細テーブル（receipt）の売上日（sales_ymd）はYYYYMMDD形式の数値型でデータを保有している。これを日付型（dateやdatetime）に変換し、レシート番号(receipt_no)、レシートサブ番号（receipt_sub_no）とともに抽出せよ。データは10件を抽出すれば良い。"
   ]
  },
  {
   "cell_type": "code",
   "execution_count": null,
   "metadata": {},
   "outputs": [],
   "source": [
    "%%sql\n"
   ]
  },
  {
   "cell_type": "markdown",
   "metadata": {},
   "source": [
    "---\n",
    "> S-048: レシート明細テーブル（receipt）の売上エポック秒（sales_epoch）は数値型のUNIX秒でデータを保有している。これを日付型（timestamp型）に変換し、レシート番号(receipt_no)、レシートサブ番号（receipt_sub_no）とともに抽出せよ。データは10件を抽出すれば良い。"
   ]
  },
  {
   "cell_type": "code",
   "execution_count": null,
   "metadata": {},
   "outputs": [],
   "source": [
    "%%sql\n"
   ]
  },
  {
   "cell_type": "markdown",
   "metadata": {},
   "source": [
    "---\n",
    "> S-049: レシート明細テーブル（receipt）の販売エポック秒（sales_epoch）を日付型（timestamp型）に変換し、\"年\"だけ取り出してレシート番号(receipt_no)、レシートサブ番号（receipt_sub_no）とともに抽出せよ。データは10件を抽出すれば良い。"
   ]
  },
  {
   "cell_type": "code",
   "execution_count": null,
   "metadata": {},
   "outputs": [],
   "source": [
    "%%sql\n"
   ]
  },
  {
   "cell_type": "markdown",
   "metadata": {},
   "source": [
    "---\n",
    "> S-050: レシート明細テーブル（receipt）の売上エポック秒（sales_epoch）を日付型（timestamp型）に変換し、\"月\"だけ取り出してレシート番号(receipt_no)、レシートサブ番号（receipt_sub_no）とともに抽出せよ。なお、\"月\"は0埋め2桁で取り出すこと。データは10件を抽出すれば良い。"
   ]
  },
  {
   "cell_type": "code",
   "execution_count": null,
   "metadata": {},
   "outputs": [],
   "source": [
    "%%sql\n"
   ]
  },
  {
   "cell_type": "markdown",
   "metadata": {},
   "source": [
    "---\n",
    "> S-051: レシート明細テーブル（receipt）の売上エポック秒（sales_epoch）を日付型（timestamp型）に変換し、\"日\"だけ取り出してレシート番号(receipt_no)、レシートサブ番号（receipt_sub_no）とともに抽出せよ。なお、\"日\"は0埋め2桁で取り出すこと。データは10件を抽出すれば良い。"
   ]
  },
  {
   "cell_type": "code",
   "execution_count": null,
   "metadata": {},
   "outputs": [],
   "source": [
    "%%sql\n"
   ]
  },
  {
   "cell_type": "markdown",
   "metadata": {},
   "source": [
    "---\n",
    "> S-052: レシート明細テーブル（receipt）の売上金額（amount）を顧客ID（customer_id）ごとに合計の上、売上金額合計に対して2000円以下を0、2000円超を1に2値化し、顧客ID、合計金額とともに10件表示せよ。ただし、顧客IDが\"Z\"から始まるのものは非会員を表すため、除外して計算すること。"
   ]
  },
  {
   "cell_type": "code",
   "execution_count": null,
   "metadata": {},
   "outputs": [],
   "source": [
    "%%sql\n"
   ]
  },
  {
   "cell_type": "markdown",
   "metadata": {},
   "source": [
    "---\n",
    "> S-053: 顧客テーブル（customer）の郵便番号（postal_cd）に対し、東京（先頭3桁が100〜209のもの）を1、それ以外のものを0に２値化せよ。さらにレシート明細テーブル（receipt）と結合し、全期間において買い物実績のある顧客数を、作成した2値ごとにカウントせよ。"
   ]
  },
  {
   "cell_type": "code",
   "execution_count": null,
   "metadata": {},
   "outputs": [],
   "source": [
    "%%sql\n"
   ]
  },
  {
   "cell_type": "markdown",
   "metadata": {},
   "source": [
    "---\n",
    "> S-054: 顧客テーブル（customer）の住所（address）は、埼玉県、千葉県、東京都、神奈川県のいずれかとなっている。都道府県毎にコード値を作成し、顧客ID、住所とともに抽出せよ。値は埼玉県を11、千葉県を12、東京都を13、神奈川県を14とすること。結果は10件表示させれば良い。"
   ]
  },
  {
   "cell_type": "code",
   "execution_count": null,
   "metadata": {},
   "outputs": [],
   "source": [
    "%%sql\n"
   ]
  },
  {
   "cell_type": "markdown",
   "metadata": {},
   "source": [
    "---\n",
    "> S-055: レシート明細テーブル（receipt）の売上金額（amount）を顧客ID（customer_id）ごとに合計し、その合計金額の四分位点を求めよ。その上で、顧客ごとの売上金額合計に対して以下の基準でカテゴリ値を作成し、顧客ID、売上金額合計とともに表示せよ。カテゴリ値は上から順に1〜4とする。結果は10件表示させれば良い。\n",
    ">\n",
    "> - 最小値以上第一四分位未満\n",
    "> - 第一四分位以上第二四分位未満\n",
    "> - 第二四分位以上第三四分位未満\n",
    "> - 第三四分位以上"
   ]
  },
  {
   "cell_type": "code",
   "execution_count": null,
   "metadata": {},
   "outputs": [],
   "source": [
    "%%sql\n"
   ]
  },
  {
   "cell_type": "markdown",
   "metadata": {},
   "source": [
    "---\n",
    "> S-056: 顧客テーブル（customer）の年齢（age）をもとに10歳刻みで年代を算出し、顧客ID（customer_id）、生年月日（birth_day）とともに抽出せよ。ただし、60歳以上は全て60歳代とすること。年代を表すカテゴリ名は任意とする。先頭10件を表示させればよい。"
   ]
  },
  {
   "cell_type": "code",
   "execution_count": null,
   "metadata": {},
   "outputs": [],
   "source": [
    "%%sql\n"
   ]
  },
  {
   "cell_type": "markdown",
   "metadata": {},
   "source": [
    "---\n",
    "> S-057: 前問題の抽出結果と性別（gender）を組み合わせ、新たに性別×年代の組み合わせを表すカテゴリデータを作成せよ。組み合わせを表すカテゴリの値は任意とする。先頭10件を表示させればよい。"
   ]
  },
  {
   "cell_type": "code",
   "execution_count": null,
   "metadata": {},
   "outputs": [],
   "source": [
    "%%sql\n"
   ]
  },
  {
   "cell_type": "markdown",
   "metadata": {},
   "source": [
    "---\n",
    "> S-058: 顧客テーブル（customer）の性別コード（gender_cd）をダミー変数化し、顧客ID（customer_id）とともに抽出せよ。結果は10件表示させれば良い。"
   ]
  },
  {
   "cell_type": "code",
   "execution_count": null,
   "metadata": {},
   "outputs": [],
   "source": [
    "%%sql\n"
   ]
  },
  {
   "cell_type": "markdown",
   "metadata": {},
   "source": [
    "---\n",
    "> S-059: レシート明細テーブル（receipt）の売上金額（amount）を顧客ID（customer_id）ごとに合計し、合計した売上金額を平均0、標準偏差1に標準化して顧客ID、売上金額合計とともに表示せよ。標準化に使用する標準偏差は、不偏標準偏差と標本標準偏差のどちらでも良いものとする。ただし、顧客IDが\"Z\"から始まるのものは非会員を表すため、除外して計算すること。結果は10件表示させれば良い。"
   ]
  },
  {
   "cell_type": "code",
   "execution_count": null,
   "metadata": {},
   "outputs": [],
   "source": [
    "%%sql\n"
   ]
  },
  {
   "cell_type": "markdown",
   "metadata": {},
   "source": [
    "---\n",
    "> S-060: レシート明細テーブル（receipt）の売上金額（amount）を顧客ID（customer_id）ごとに合計し、合計した売上金額を最小値0、最大値1に正規化して顧客ID、売上金額合計とともに表示せよ。ただし、顧客IDが\"Z\"から始まるのものは非会員を表すため、除外して計算すること。結果は10件表示させれば良い。"
   ]
  },
  {
   "cell_type": "code",
   "execution_count": null,
   "metadata": {},
   "outputs": [],
   "source": [
    "%%sql\n"
   ]
  },
  {
   "cell_type": "markdown",
   "metadata": {},
   "source": [
    "---\n",
    "> S-061: レシート明細テーブル（receipt）の売上金額（amount）を顧客ID（customer_id）ごとに合計し、合計した売上金額を常用対数化（底=10）して顧客ID、売上金額合計とともに表示せよ。ただし、顧客IDが\"Z\"から始まるのものは非会員を表すため、除外して計算すること。結果は10件表示させれば良い。"
   ]
  },
  {
   "cell_type": "code",
   "execution_count": null,
   "metadata": {},
   "outputs": [],
   "source": [
    "%%sql\n"
   ]
  },
  {
   "cell_type": "markdown",
   "metadata": {},
   "source": [
    "---\n",
    "> S-062: レシート明細テーブル（receipt）の売上金額（amount）を顧客ID（customer_id）ごとに合計し、合計した売上金額を自然対数化(底=e）して顧客ID、売上金額合計とともに表示せよ（ただし、顧客IDが\"Z\"から始まるのものは非会員を表すため、除外して計算すること）。結果は10件表示させれば良い。"
   ]
  },
  {
   "cell_type": "code",
   "execution_count": null,
   "metadata": {},
   "outputs": [],
   "source": [
    "%%sql\n"
   ]
  },
  {
   "cell_type": "markdown",
   "metadata": {},
   "source": [
    "---\n",
    "> S-063: 商品テーブル（product）の単価（unit_price）と原価（unit_cost）から、各商品の利益額を算出せよ。結果は10件表示させれば良い。"
   ]
  },
  {
   "cell_type": "code",
   "execution_count": null,
   "metadata": {},
   "outputs": [],
   "source": [
    "%%sql\n"
   ]
  },
  {
   "cell_type": "markdown",
   "metadata": {},
   "source": [
    "---\n",
    "> S-064: 商品テーブル（product）の単価（unit_price）と原価（unit_cost）から、各商品の利益率の全体平均を算出せよ。 ただし、単価と原価にはNULLが存在することに注意せよ。"
   ]
  },
  {
   "cell_type": "code",
   "execution_count": null,
   "metadata": {},
   "outputs": [],
   "source": [
    "%%sql\n"
   ]
  },
  {
   "cell_type": "markdown",
   "metadata": {},
   "source": [
    "---\n",
    "> S-065: 商品テーブル（product）の各商品について、利益率が30%となる新たな単価を求めよ。ただし、1円未満は切り捨てること。そして結果を10件表示させ、利益率がおよそ30％付近であることを確認せよ。ただし、単価（unit_price）と原価（unit_cost）にはNULLが存在することに注意せよ。"
   ]
  },
  {
   "cell_type": "code",
   "execution_count": null,
   "metadata": {},
   "outputs": [],
   "source": [
    "%%sql\n"
   ]
  },
  {
   "cell_type": "markdown",
   "metadata": {},
   "source": [
    "---\n",
    "> S-066: 商品テーブル（product）の各商品について、利益率が30%となる新たな単価を求めよ。今回は、1円未満を四捨五入すること。そして結果を10件表示させ、利益率がおよそ30％付近であることを確認せよ。ただし、単価（unit_price）と原価（unit_cost）にはNULLが存在することに注意せよ。"
   ]
  },
  {
   "cell_type": "code",
   "execution_count": null,
   "metadata": {},
   "outputs": [],
   "source": [
    "%%sql\n"
   ]
  },
  {
   "cell_type": "markdown",
   "metadata": {},
   "source": [
    "---\n",
    "> S-067: 商品テーブル（product）の各商品について、利益率が30%となる新たな単価を求めよ。今回は、1円未満を切り上げること。そして結果を10件表示させ、利益率がおよそ30％付近であることを確認せよ。ただし、単価（unit_price）と原価（unit_cost）にはNULLが存在することに注意せよ。"
   ]
  },
  {
   "cell_type": "code",
   "execution_count": null,
   "metadata": {},
   "outputs": [],
   "source": [
    "%%sql\n"
   ]
  },
  {
   "cell_type": "markdown",
   "metadata": {},
   "source": [
    "---\n",
    "> S-068: 商品テーブル（product）の各商品について、消費税率10%の税込み金額を求めよ。 1円未満の端数は切り捨てとし、結果は10件表示すれば良い。ただし、単価（unit_price）にはNULLが存在することに注意せよ。"
   ]
  },
  {
   "cell_type": "code",
   "execution_count": null,
   "metadata": {},
   "outputs": [],
   "source": [
    "%%sql\n"
   ]
  },
  {
   "cell_type": "markdown",
   "metadata": {},
   "source": [
    "---\n",
    "> S-069: レシート明細テーブル（receipt）と商品テーブル（product）を結合し、顧客毎に全商品の売上金額合計と、カテゴリ大区分（category_major_cd）が\"07\"（瓶詰缶詰）の売上金額合計を計算の上、両者の比率を求めよ。抽出対象はカテゴリ大区分\"07\"（瓶詰缶詰）の購入実績がある顧客のみとし、結果は10件表示させればよい。"
   ]
  },
  {
   "cell_type": "code",
   "execution_count": null,
   "metadata": {},
   "outputs": [],
   "source": [
    "%%sql\n"
   ]
  },
  {
   "cell_type": "markdown",
   "metadata": {},
   "source": [
    "---\n",
    "> S-070: レシート明細テーブル（receipt）の売上日（sales_ymd）に対し、顧客テーブル（customer）の会員申込日（application_date）からの経過日数を計算し、顧客ID（customer_id）、売上日、会員申込日とともに表示せよ。結果は10件表示させれば良い（なお、sales_ymdは数値、application_dateは文字列でデータを保持している点に注意）。"
   ]
  },
  {
   "cell_type": "code",
   "execution_count": null,
   "metadata": {},
   "outputs": [],
   "source": [
    "%%sql\n"
   ]
  },
  {
   "cell_type": "markdown",
   "metadata": {},
   "source": [
    "---\n",
    "> S-071: レシート明細テーブル（receipt）の売上日（sales_ymd）に対し、顧客テーブル（customer）の会員申込日（application_date）からの経過月数を計算し、顧客ID（customer_id）、売上日、会員申込日とともに表示せよ。結果は10件表示させれば良い（なお、sales_ymdは数値、application_dateは文字列でデータを保持している点に注意）。1ヶ月未満は切り捨てること。"
   ]
  },
  {
   "cell_type": "code",
   "execution_count": null,
   "metadata": {},
   "outputs": [],
   "source": [
    "%%sql\n"
   ]
  },
  {
   "cell_type": "markdown",
   "metadata": {},
   "source": [
    "---\n",
    "> S-072: レシート明細テーブル（receipt）の売上日（sales_ymd）に対し、顧客テーブル（customer）の会員申込日（application_date）からの経過年数を計算し、顧客ID（customer_id）、売上日、会員申込日とともに表示せよ。結果は10件表示させれば良い（なお、sales_ymdは数値、application_dateは文字列でデータを保持している点に注意）。1年未満は切り捨てること。"
   ]
  },
  {
   "cell_type": "code",
   "execution_count": null,
   "metadata": {},
   "outputs": [],
   "source": [
    "%%sql\n"
   ]
  },
  {
   "cell_type": "markdown",
   "metadata": {},
   "source": [
    "---\n",
    "> S-073: レシート明細テーブル（receipt）の売上日（sales_ymd）に対し、顧客テーブル（customer）の会員申込日（application_date）からのエポック秒による経過時間を計算し、顧客ID（customer_id）、売上日、会員申込日とともに表示せよ。結果は10件表示させれば良い（なお、sales_ymdは数値、application_dateは文字列でデータを保持している点に注意）。なお、時間情報は保有していないため各日付は0時0分0秒を表すものとする。"
   ]
  },
  {
   "cell_type": "code",
   "execution_count": null,
   "metadata": {},
   "outputs": [],
   "source": [
    "%%sql\n"
   ]
  },
  {
   "cell_type": "markdown",
   "metadata": {},
   "source": [
    "---\n",
    "> S-074: レシート明細テーブル（receipt）の売上日（sales_ymd）に対し、当該週の月曜日からの経過日数を計算し、売上日、当該週の月曜日付とともに表示せよ。結果は10件表示させれば良い（なお、sales_ymdは数値でデータを保持している点に注意）。"
   ]
  },
  {
   "cell_type": "code",
   "execution_count": null,
   "metadata": {},
   "outputs": [],
   "source": [
    "%%sql\n"
   ]
  },
  {
   "cell_type": "markdown",
   "metadata": {},
   "source": [
    "---\n",
    "> S-075: 顧客テーブル（customer）からランダムに1%のデータを抽出し、先頭から10件データを抽出せよ。 "
   ]
  },
  {
   "cell_type": "code",
   "execution_count": null,
   "metadata": {},
   "outputs": [],
   "source": [
    "%%sql\n"
   ]
  },
  {
   "cell_type": "markdown",
   "metadata": {},
   "source": [
    "---\n",
    "> S-076:  顧客テーブル（customer）から性別（gender_cd）の割合に基づきランダムに10%のデータを層化抽出データし、性別ごとに件数を集計せよ。"
   ]
  },
  {
   "cell_type": "code",
   "execution_count": null,
   "metadata": {},
   "outputs": [],
   "source": [
    "%%sql\n"
   ]
  },
  {
   "cell_type": "markdown",
   "metadata": {},
   "source": [
    "---\n",
    "> S-077: レシート明細テーブル（receipt）の売上金額（amount）を顧客単位に合計し、合計した売上金額の外れ値を抽出せよ。ただし、顧客IDが\"Z\"から始まるのものは非会員を表すため、除外して計算すること。なお、ここでは外れ値を平均から3σ以上離れたものとする。結果は10件表示させれば良い。"
   ]
  },
  {
   "cell_type": "code",
   "execution_count": null,
   "metadata": {},
   "outputs": [],
   "source": [
    "%%sql\n"
   ]
  },
  {
   "cell_type": "markdown",
   "metadata": {},
   "source": [
    "---\n",
    "> S-078: レシート明細テーブル（receipt）の売上金額（amount）を顧客単位に合計し、合計した売上金額の外れ値を抽出せよ。ただし、顧客IDが\"Z\"から始まるのものは非会員を表すため、除外して計算すること。なお、ここでは外れ値を第一四分位と第三四分位の差であるIQRを用いて、「第一四分位数-1.5×IQR」よりも下回るもの、または「第三四分位数+1.5×IQR」を超えるものとする。結果は10件表示させれば良い。"
   ]
  },
  {
   "cell_type": "code",
   "execution_count": null,
   "metadata": {},
   "outputs": [],
   "source": [
    "%%sql\n"
   ]
  },
  {
   "cell_type": "markdown",
   "metadata": {},
   "source": [
    "---\n",
    "> S-079: 商品テーブル（product）の各項目に対し、欠損数を確認せよ。"
   ]
  },
  {
   "cell_type": "code",
   "execution_count": null,
   "metadata": {},
   "outputs": [],
   "source": [
    "%%sql\n"
   ]
  },
  {
   "cell_type": "markdown",
   "metadata": {},
   "source": [
    "---\n",
    "> S-080: 商品テーブル（product）のいずれかの項目に欠損が発生しているレコードを全て削除した新たなproduct_1を作成せよ。なお、削除前後の件数を表示させ、前設問で確認した件数だけ減少していることも確認すること。"
   ]
  },
  {
   "cell_type": "code",
   "execution_count": null,
   "metadata": {},
   "outputs": [],
   "source": [
    "%%sql\n"
   ]
  },
  {
   "cell_type": "markdown",
   "metadata": {},
   "source": [
    "---\n",
    "> S-081: 単価（unit_price）と原価（unit_cost）の欠損値について、それぞれの平均値で補完した新たなproduct_2を作成せよ。なお、平均値について1円未満は四捨五入とする。補完実施後、各項目について欠損が生じていないことも確認すること。"
   ]
  },
  {
   "cell_type": "code",
   "execution_count": null,
   "metadata": {},
   "outputs": [],
   "source": [
    "%%sql\n"
   ]
  },
  {
   "cell_type": "markdown",
   "metadata": {},
   "source": [
    "---\n",
    "> S-082:  単価（unit_price）と原価（unit_cost）の欠損値について、それぞれの中央値で補完した新たなproduct_3を作成せよ。なお、中央値について1円未満は四捨五入とする。補完実施後、各項目について欠損が生じていないことも確認すること。"
   ]
  },
  {
   "cell_type": "code",
   "execution_count": null,
   "metadata": {},
   "outputs": [],
   "source": [
    "%%sql\n"
   ]
  },
  {
   "cell_type": "markdown",
   "metadata": {},
   "source": [
    "---\n",
    "> S-083: 単価（unit_price）と原価（unit_cost）の欠損値について、各商品の小区分（category_small_cd）ごとに算出した中央値で補完した新たなproduct_4を作成せよ。なお、中央値について1円未満は四捨五入とする。補完実施後、各項目について欠損が生じていないことも確認すること。"
   ]
  },
  {
   "cell_type": "code",
   "execution_count": null,
   "metadata": {},
   "outputs": [],
   "source": [
    "%%sql\n"
   ]
  },
  {
   "cell_type": "markdown",
   "metadata": {},
   "source": [
    "---\n",
    "> S-084: 顧客テーブル（customer）の全顧客に対し、全期間の売上金額に占める2019年売上金額の割合を計算せよ。ただし、販売実績のない場合は0として扱うこと。そして計算した割合が0超のものを抽出せよ。 結果は10件表示させれば良い。"
   ]
  },
  {
   "cell_type": "code",
   "execution_count": null,
   "metadata": {},
   "outputs": [],
   "source": [
    "%%sql\n"
   ]
  },
  {
   "cell_type": "markdown",
   "metadata": {},
   "source": [
    "---\n",
    "> S-085: 顧客テーブル（customer）の全顧客に対し、郵便番号（postal_cd）を用いて経度緯度変換用テーブル（geocode）を紐付け、新たなcustomer_1を作成せよ。ただし、複数紐づく場合は経度（longitude）、緯度（latitude）それぞれ平均を算出すること。"
   ]
  },
  {
   "cell_type": "code",
   "execution_count": null,
   "metadata": {},
   "outputs": [],
   "source": [
    "%%sql\n"
   ]
  },
  {
   "cell_type": "markdown",
   "metadata": {},
   "source": [
    "---\n",
    "> S-086: 前設問で作成した緯度経度つき顧客テーブル（customer_1）に対し、申込み店舗コード（application_store_cd）をキーに店舗テーブル（store）と結合せよ。そして申込み店舗の緯度（latitude）・経度情報（longitude)と顧客の緯度・経度を用いて距離（km）を求め、顧客ID（customer_id）、顧客住所（address）、店舗住所（address）とともに表示せよ。計算式は簡易式で良いものとするが、その他精度の高い方式を利用したライブラリを利用してもかまわない。結果は10件表示すれば良い。"
   ]
  },
  {
   "cell_type": "markdown",
   "metadata": {},
   "source": [
    "$$\n",
    "緯度（ラジアン）：\\phi \\\\\n",
    "経度（ラジアン）：\\lambda \\\\\n",
    "距離L = 6371 * arccos(sin \\phi_1 * sin \\phi_2\n",
    "+ cos \\phi_1 * cos \\phi_2 * cos(\\lambda_1 − \\lambda_2))\n",
    "$$"
   ]
  },
  {
   "cell_type": "code",
   "execution_count": null,
   "metadata": {},
   "outputs": [],
   "source": [
    "%%sql\n"
   ]
  },
  {
   "cell_type": "markdown",
   "metadata": {},
   "source": [
    "---\n",
    "> S-087: 顧客テーブル（customer）では、異なる店舗での申込みなどにより同一顧客が複数登録されている。名前（customer_name）と郵便番号（postal_cd）が同じ顧客は同一顧客とみなし、1顧客1レコードとなるように名寄せした名寄顧客テーブル（customer_u）を作成せよ。ただし、同一顧客に対しては売上金額合計が最も高いものを残すものとし、売上金額合計が同一もしくは売上実績の無い顧客については顧客ID（customer_id）の番号が小さいものを残すこととする。"
   ]
  },
  {
   "cell_type": "code",
   "execution_count": null,
   "metadata": {},
   "outputs": [],
   "source": [
    "%%sql\n"
   ]
  },
  {
   "cell_type": "markdown",
   "metadata": {},
   "source": [
    "---\n",
    "> S-088: 前設問で作成したデータを元に、顧客テーブルに統合名寄IDを付与したテーブル（customer_n）を作成せよ。ただし、統合名寄IDは以下の仕様で付与するものとする。\n",
    ">\n",
    ">- 重複していない顧客：顧客ID（customer_id）を設定\n",
    ">- 重複している顧客：前設問で抽出したレコードの顧客IDを設定"
   ]
  },
  {
   "cell_type": "code",
   "execution_count": null,
   "metadata": {},
   "outputs": [],
   "source": [
    "%%sql\n"
   ]
  },
  {
   "cell_type": "markdown",
   "metadata": {},
   "source": [
    "---\n",
    "> S-089: 売上実績のある顧客に対し、予測モデル構築のため学習用データとテスト用データに分割したい。それぞれ8:2の割合でランダムに分割し、テーブルを作成せよ。"
   ]
  },
  {
   "cell_type": "code",
   "execution_count": null,
   "metadata": {},
   "outputs": [],
   "source": [
    "%%sql\n"
   ]
  },
  {
   "cell_type": "markdown",
   "metadata": {},
   "source": [
    "---\n",
    "> S-090: レシート明細テーブル（receipt）は2017年1月1日〜2019年10月31日までのデータを有している。売上金額（amount）を月次で集計し、学習用に12ヶ月、テスト用に6ヶ月のモデル構築用データを3テーブルとしてセット作成せよ。データの持ち方は自由とする。"
   ]
  },
  {
   "cell_type": "code",
   "execution_count": null,
   "metadata": {},
   "outputs": [],
   "source": [
    "%%sql\n"
   ]
  },
  {
   "cell_type": "markdown",
   "metadata": {},
   "source": [
    "---\n",
    "> S-091: 顧客テーブル（customer）の各顧客に対し、売上実績のある顧客数と売上実績のない顧客数が1:1となるようにアンダーサンプリングで抽出せよ。"
   ]
  },
  {
   "cell_type": "code",
   "execution_count": null,
   "metadata": {},
   "outputs": [],
   "source": [
    "%%sql\n"
   ]
  },
  {
   "cell_type": "markdown",
   "metadata": {},
   "source": [
    "---\n",
    "> S-092: 顧客テーブル（customer）では、性別に関する情報が非正規化の状態で保持されている。これを第三正規化せよ。"
   ]
  },
  {
   "cell_type": "code",
   "execution_count": null,
   "metadata": {},
   "outputs": [],
   "source": [
    "%%sql\n"
   ]
  },
  {
   "cell_type": "markdown",
   "metadata": {},
   "source": [
    "---\n",
    "> S-093: 商品テーブル（product）では各カテゴリのコード値だけを保有し、カテゴリ名は保有していない。カテゴリテーブル（category）と組み合わせて非正規化し、カテゴリ名を保有した新たな商品テーブルを作成せよ。"
   ]
  },
  {
   "cell_type": "code",
   "execution_count": null,
   "metadata": {},
   "outputs": [],
   "source": [
    "%%sql\n"
   ]
  },
  {
   "cell_type": "markdown",
   "metadata": {},
   "source": [
    "---\n",
    "> S-094: 先に作成したカテゴリ名付き商品データを以下の仕様でファイル出力せよ。出力先のパスは'/tmp/data'を指定することでJupyterの/'work/data'と共有されるようになっている。なお、COPYコマンドの権限は付与済みである。\n",
    ">\n",
    "> - ファイル形式はCSV（カンマ区切り）\n",
    "> - ヘッダ有り\n",
    "> - 文字コードはUTF-8"
   ]
  },
  {
   "cell_type": "code",
   "execution_count": null,
   "metadata": {},
   "outputs": [],
   "source": [
    "%%sql\n"
   ]
  },
  {
   "cell_type": "markdown",
   "metadata": {},
   "source": [
    "---\n",
    "> S-095: 先に作成したカテゴリ名付き商品データを以下の仕様でファイル出力せよ。出力先のパスは'/tmp/data'を指定することでJupyterの/'work/data'と共有されるようになっている。なお、COPYコマンドの権限は付与済みである。\n",
    ">\n",
    "> - ファイル形式はCSV（カンマ区切り）\n",
    "> - ヘッダ有り\n",
    "> - 文字コードはSJIS"
   ]
  },
  {
   "cell_type": "code",
   "execution_count": null,
   "metadata": {},
   "outputs": [],
   "source": [
    "%%sql\n"
   ]
  },
  {
   "cell_type": "markdown",
   "metadata": {},
   "source": [
    "---\n",
    "> S-096: 先に作成したカテゴリ名付き商品データを以下の仕様でファイル出力せよ。出力先のパスは'/tmp/data'を指定することでJupyterの/'work/data'と共有されるようになっている。なお、COPYコマンドの権限は付与済みである。\n",
    ">\n",
    "> - ファイル形式はCSV（カンマ区切り）\n",
    "> - ヘッダ無し\n",
    "> - 文字コードはUTF-8"
   ]
  },
  {
   "cell_type": "code",
   "execution_count": null,
   "metadata": {},
   "outputs": [],
   "source": [
    "%%sql\n"
   ]
  },
  {
   "cell_type": "markdown",
   "metadata": {},
   "source": [
    "---\n",
    "> S-097: 先に作成した以下形式のファイルを読み込み、テーブルを作成せよ。また、先頭3件を表示させ、正しくとりまれていることを確認せよ。\n",
    ">\n",
    "> - ファイル形式はCSV（カンマ区切り）\n",
    "> - ヘッダ有り\n",
    "> - 文字コードはUTF-8"
   ]
  },
  {
   "cell_type": "code",
   "execution_count": null,
   "metadata": {},
   "outputs": [],
   "source": [
    "%%sql\n"
   ]
  },
  {
   "cell_type": "markdown",
   "metadata": {},
   "source": [
    "---\n",
    "> S-098: 先に作成した以下形式のファイルを読み込み、テーブルを作成せよ。また、先頭3件を表示させ、正しくとりまれていることを確認せよ。\n",
    ">\n",
    "> - ファイル形式はCSV（カンマ区切り）\n",
    "> - ヘッダ無し\n",
    "> - 文字コードはUTF-8"
   ]
  },
  {
   "cell_type": "code",
   "execution_count": null,
   "metadata": {},
   "outputs": [],
   "source": [
    "%%sql\n"
   ]
  },
  {
   "cell_type": "markdown",
   "metadata": {},
   "source": [
    "---\n",
    "> S-099: 先に作成したカテゴリ名付き商品データを以下の仕様でファイル出力せよ。出力先のパスは'/tmp/data'を指定することでJupyterの/'work/data'と共有されるようになっている。なお、COPYコマンドの権限は付与済みである。\n",
    ">\n",
    "> - ファイル形式はTSV（タブ区切り）\n",
    "> - ヘッダ有り\n",
    "> - 文字コードはUTF-8"
   ]
  },
  {
   "cell_type": "code",
   "execution_count": null,
   "metadata": {},
   "outputs": [],
   "source": [
    "%%sql\n"
   ]
  },
  {
   "cell_type": "markdown",
   "metadata": {},
   "source": [
    "---\n",
    "> S-100: 先に作成した以下形式のファイルを読み込み、テーブルを作成せよ。また、先頭10件を表示させ、正しくとりまれていることを確認せよ。\n",
    ">\n",
    "> - ファイル形式はTSV（タブ区切り）\n",
    "> - ヘッダ有り\n",
    "> - 文字コードはUTF-8"
   ]
  },
  {
   "cell_type": "code",
   "execution_count": null,
   "metadata": {},
   "outputs": [],
   "source": [
    "%%sql\n"
   ]
  },
  {
   "cell_type": "markdown",
   "metadata": {},
   "source": [
    "# これで１００本終わりです。おつかれさまでした！"
   ]
  }
 ],
 "metadata": {
  "kernelspec": {
   "display_name": "Python 3",
   "language": "python",
   "name": "python3"
  },
  "language_info": {
   "codemirror_mode": {
    "name": "ipython",
    "version": 3
   },
   "file_extension": ".py",
   "mimetype": "text/x-python",
   "name": "python",
   "nbconvert_exporter": "python",
   "pygments_lexer": "ipython3",
   "version": "3.8.6"
  }
 },
 "nbformat": 4,
 "nbformat_minor": 4
}
